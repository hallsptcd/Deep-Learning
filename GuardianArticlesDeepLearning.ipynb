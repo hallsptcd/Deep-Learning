{
 "cells": [
  {
   "cell_type": "markdown",
   "id": "a2ce8ea0",
   "metadata": {},
   "source": [
    "# Predicting the Section of a Guardian Article <a class=\"anchor\" id=\"top\"></a>"
   ]
  },
  {
   "cell_type": "markdown",
   "id": "ab385ff9",
   "metadata": {},
   "source": [
    "**Simon Hall**"
   ]
  },
  {
   "cell_type": "markdown",
   "id": "cd290d23",
   "metadata": {},
   "source": [
    "The aim of this project is to perform a systematic investigation of a number of Deep Learning methods in the context of text processing, and text classification. This task uses a dataset of articles extracted from *The Guardian* newspaper, and aims to predict the broader section from which an article was taken."
   ]
  },
  {
   "cell_type": "markdown",
   "id": "388931f7",
   "metadata": {},
   "source": [
    "## Contents:\n",
    "* [1. Importation & Description](#import-bullet)\n",
    "* [2. Pre-Processing](#pre-bullet)\n",
    "    * [i. Feature Reduction](#a-bullet)\n",
    "    * [ii. Number of Labels and Data Quality](#b-bullet)\n",
    "    * [iii. Remove Stop Words and Lemmatisation](#c-bullet)\n",
    "    * [iv. Target Variable Extraction](#d-bullet)\n",
    "    * [v. Undersampling the Data](#e-bullet)\n",
    "    * [vi. Initial Label Encoding](#f-bullet)\n",
    "    * [vi. Data Partitioning](#g-bullet)\n",
    "    * [vii. Text Embedding](#h-bullet)\n",
    "    * [viii. One-Hot Label Encoding](#i-bullet)\n",
    "* [3. LSTM Models](#model2-bullet)\n",
    "    * [i. CNN and LSTM](#cnnlstmmodel-bullet)"
   ]
  },
  {
   "cell_type": "markdown",
   "id": "04f5361a",
   "metadata": {},
   "source": [
    "## 1. Importation & Description <a class=\"anchor\" id=\"import-bullet\"></a>"
   ]
  },
  {
   "cell_type": "markdown",
   "id": "648e011f",
   "metadata": {},
   "source": [
    "[TOP ↑](#top)"
   ]
  },
  {
   "cell_type": "markdown",
   "id": "b85a13f8",
   "metadata": {},
   "source": [
    "We'll start with first things first: importing all of our packages and methods."
   ]
  },
  {
   "cell_type": "code",
   "execution_count": 1,
   "id": "4dbd65e5",
   "metadata": {},
   "outputs": [],
   "source": [
    "# First, we import the basic packages\n",
    "import numpy as np\n",
    "import pandas as pd\n",
    "import nltk\n",
    "import matplotlib.pyplot as plt\n",
    "from datetime import datetime\n",
    "import os\n",
    "import re\n",
    "from imblearn.under_sampling import RandomUnderSampler\n",
    "# Next, we import some methods from NLTK\n",
    "from nltk.stem import WordNetLemmatizer\n",
    "from nltk.corpus import stopwords\n",
    "# Next, we import some methods from Scikit-Learn\n",
    "from sklearn.preprocessing import StandardScaler\n",
    "from sklearn.preprocessing import LabelEncoder\n",
    "from sklearn.preprocessing import OneHotEncoder\n",
    "from sklearn.model_selection import train_test_split\n",
    "from sklearn.model_selection import GridSearchCV\n",
    "from sklearn.datasets import make_classification\n",
    "from sklearn.utils.class_weight import compute_class_weight\n",
    "from sklearn.metrics import confusion_matrix, precision_recall_curve, classification_report\n",
    "# Finally, we import all of the TensorFlow methods\n",
    "import tensorflow as tf\n",
    "from keras import regularizers\n",
    "from keras.callbacks import EarlyStopping\n",
    "from keras.wrappers.scikit_learn import KerasClassifier\n",
    "from tensorflow.keras.preprocessing.text import Tokenizer\n",
    "from tensorflow.keras.utils import to_categorical\n",
    "from tensorflow.keras.preprocessing.sequence import pad_sequences\n",
    "from tensorflow.keras.preprocessing import sequence\n",
    "from tensorflow.keras.layers.experimental.preprocessing import TextVectorization\n",
    "from tensorflow.keras import layers\n",
    "from tensorflow.keras.layers import Activation, Conv1D, GlobalMaxPooling1D, GlobalAveragePooling1D, LSTM, SimpleRNN\n",
    "from tensorflow.keras.layers import Embedding\n",
    "from tensorflow.keras.layers import Flatten\n",
    "from tensorflow.keras.layers import LSTM, Dense, Dropout\n",
    "from tensorflow.keras.models import Sequential"
   ]
  },
  {
   "cell_type": "markdown",
   "id": "ad0781a1",
   "metadata": {},
   "source": [
    "Next, let's import the relevant dataset, taking care to drop any rows with missing values."
   ]
  },
  {
   "cell_type": "code",
   "execution_count": 2,
   "id": "004c2663",
   "metadata": {},
   "outputs": [],
   "source": [
    "df = pd.read_csv(\"guardian_articles.csv\").dropna()"
   ]
  },
  {
   "cell_type": "code",
   "execution_count": 3,
   "id": "33f98945",
   "metadata": {},
   "outputs": [],
   "source": [
    "# We set a random seed for reproducibility purposes\n",
    "np.random.seed(38)\n",
    "# Take a sample of the original data\n",
    "df = df.sample(frac=1)"
   ]
  },
  {
   "cell_type": "markdown",
   "id": "3db85eb0",
   "metadata": {},
   "source": [
    "If we call the shape attribute, we can determine the dimensions of the data set."
   ]
  },
  {
   "cell_type": "code",
   "execution_count": 4,
   "id": "bca80007",
   "metadata": {},
   "outputs": [
    {
     "data": {
      "text/plain": [
       "(148731, 7)"
      ]
     },
     "execution_count": 4,
     "metadata": {},
     "output_type": "execute_result"
    }
   ],
   "source": [
    "df.shape"
   ]
  },
  {
   "cell_type": "markdown",
   "id": "7067f28c",
   "metadata": {},
   "source": [
    "Let's print the head of the dataframe to examine the information in more detail."
   ]
  },
  {
   "cell_type": "code",
   "execution_count": 5,
   "id": "298c62a9",
   "metadata": {
    "scrolled": true
   },
   "outputs": [
    {
     "data": {
      "text/html": [
       "<div>\n",
       "<style scoped>\n",
       "    .dataframe tbody tr th:only-of-type {\n",
       "        vertical-align: middle;\n",
       "    }\n",
       "\n",
       "    .dataframe tbody tr th {\n",
       "        vertical-align: top;\n",
       "    }\n",
       "\n",
       "    .dataframe thead th {\n",
       "        text-align: right;\n",
       "    }\n",
       "</style>\n",
       "<table border=\"1\" class=\"dataframe\">\n",
       "  <thead>\n",
       "    <tr style=\"text-align: right;\">\n",
       "      <th></th>\n",
       "      <th>article_id</th>\n",
       "      <th>sectionName</th>\n",
       "      <th>webTitle</th>\n",
       "      <th>webUrl</th>\n",
       "      <th>bodyContent</th>\n",
       "      <th>webPublicationDate</th>\n",
       "      <th>id</th>\n",
       "    </tr>\n",
       "  </thead>\n",
       "  <tbody>\n",
       "    <tr>\n",
       "      <th>138546</th>\n",
       "      <td>australia-news/2022/jan/31/nsw-government-has-...</td>\n",
       "      <td>Australia news</td>\n",
       "      <td>NSW government has ‘always known’ Covid deaths...</td>\n",
       "      <td>https://www.theguardian.com/australia-news/202...</td>\n",
       "      <td>The New South Wales premier, Dominic Perrottet...</td>\n",
       "      <td>2022-01-31T05:12:17Z</td>\n",
       "      <td>138547</td>\n",
       "    </tr>\n",
       "    <tr>\n",
       "      <th>88013</th>\n",
       "      <td>society/2019/oct/25/helping-parents-choose-vac...</td>\n",
       "      <td>Society</td>\n",
       "      <td>Helping parents choose vaccination for their c...</td>\n",
       "      <td>https://www.theguardian.com/society/2019/oct/2...</td>\n",
       "      <td>I am not sure that making immunisations compul...</td>\n",
       "      <td>2019-10-25T15:39:50Z</td>\n",
       "      <td>88014</td>\n",
       "    </tr>\n",
       "    <tr>\n",
       "      <th>14885</th>\n",
       "      <td>sport/blog/2016/aug/26/undisclosed-transfers-c...</td>\n",
       "      <td>Sport</td>\n",
       "      <td>It is hard to get excited about a question mar...</td>\n",
       "      <td>https://www.theguardian.com/sport/blog/2016/au...</td>\n",
       "      <td>This is a story that starts, in a manner of sp...</td>\n",
       "      <td>2016-08-26T12:22:00Z</td>\n",
       "      <td>14886</td>\n",
       "    </tr>\n",
       "    <tr>\n",
       "      <th>139824</th>\n",
       "      <td>australia-news/2022/jan/25/grace-tame-and-scot...</td>\n",
       "      <td>Australia news</td>\n",
       "      <td>Grace Tame and Scott Morrison’s frosty meeting...</td>\n",
       "      <td>https://www.theguardian.com/australia-news/202...</td>\n",
       "      <td>Pictures capturing an apparently frosty moment...</td>\n",
       "      <td>2022-01-25T03:54:02Z</td>\n",
       "      <td>139825</td>\n",
       "    </tr>\n",
       "    <tr>\n",
       "      <th>92431</th>\n",
       "      <td>money/2019/dec/18/tesco-recalls-heinz-baby-foo...</td>\n",
       "      <td>Money</td>\n",
       "      <td>Tesco recalls Heinz baby food jars after metal...</td>\n",
       "      <td>https://www.theguardian.com/money/2019/dec/18/...</td>\n",
       "      <td>Tesco has recalled thousands of jars of Heinz ...</td>\n",
       "      <td>2019-12-18T19:09:18Z</td>\n",
       "      <td>92432</td>\n",
       "    </tr>\n",
       "  </tbody>\n",
       "</table>\n",
       "</div>"
      ],
      "text/plain": [
       "                                               article_id     sectionName  \\\n",
       "138546  australia-news/2022/jan/31/nsw-government-has-...  Australia news   \n",
       "88013   society/2019/oct/25/helping-parents-choose-vac...         Society   \n",
       "14885   sport/blog/2016/aug/26/undisclosed-transfers-c...           Sport   \n",
       "139824  australia-news/2022/jan/25/grace-tame-and-scot...  Australia news   \n",
       "92431   money/2019/dec/18/tesco-recalls-heinz-baby-foo...           Money   \n",
       "\n",
       "                                                 webTitle  \\\n",
       "138546  NSW government has ‘always known’ Covid deaths...   \n",
       "88013   Helping parents choose vaccination for their c...   \n",
       "14885   It is hard to get excited about a question mar...   \n",
       "139824  Grace Tame and Scott Morrison’s frosty meeting...   \n",
       "92431   Tesco recalls Heinz baby food jars after metal...   \n",
       "\n",
       "                                                   webUrl  \\\n",
       "138546  https://www.theguardian.com/australia-news/202...   \n",
       "88013   https://www.theguardian.com/society/2019/oct/2...   \n",
       "14885   https://www.theguardian.com/sport/blog/2016/au...   \n",
       "139824  https://www.theguardian.com/australia-news/202...   \n",
       "92431   https://www.theguardian.com/money/2019/dec/18/...   \n",
       "\n",
       "                                              bodyContent  \\\n",
       "138546  The New South Wales premier, Dominic Perrottet...   \n",
       "88013   I am not sure that making immunisations compul...   \n",
       "14885   This is a story that starts, in a manner of sp...   \n",
       "139824  Pictures capturing an apparently frosty moment...   \n",
       "92431   Tesco has recalled thousands of jars of Heinz ...   \n",
       "\n",
       "          webPublicationDate      id  \n",
       "138546  2022-01-31T05:12:17Z  138547  \n",
       "88013   2019-10-25T15:39:50Z   88014  \n",
       "14885   2016-08-26T12:22:00Z   14886  \n",
       "139824  2022-01-25T03:54:02Z  139825  \n",
       "92431   2019-12-18T19:09:18Z   92432  "
      ]
     },
     "execution_count": 5,
     "metadata": {},
     "output_type": "execute_result"
    }
   ],
   "source": [
    "pd.set_option('display.max_columns', None)\n",
    "df.head()"
   ]
  },
  {
   "cell_type": "markdown",
   "id": "03de01d1",
   "metadata": {},
   "source": [
    "In summary, we seem to have the following features in the dataset:"
   ]
  },
  {
   "cell_type": "markdown",
   "id": "51af027a",
   "metadata": {},
   "source": [
    "| Feature | Data Type | Description |\n",
    "| :--- | :--- | :--- |\n",
    "| article_id | string | A unique string ID for each article. |\n",
    "| sectionName | string | The newspaper section to which the article belongs. Our labels. |\n",
    "| webTitle | string | The article title as it appeared online. |\n",
    "| webURL | string | The individual URL for the article. |\n",
    "| bodyContent | string | The text content of the article. Our input data. |\n",
    "| webPublicationDate | string | The date and time of the publication. |\n",
    "| id  | integer | A unique integer ID for each article. |"
   ]
  },
  {
   "cell_type": "markdown",
   "id": "f7641fd9",
   "metadata": {},
   "source": [
    "The two features of interest are *sectionName* and *bodyContent*. We can call the ```info()``` method to check the data types of each column, identify null values, and assess the memory usage of the DataFrame."
   ]
  },
  {
   "cell_type": "code",
   "execution_count": 6,
   "id": "5b59c863",
   "metadata": {},
   "outputs": [
    {
     "name": "stdout",
     "output_type": "stream",
     "text": [
      "<class 'pandas.core.frame.DataFrame'>\n",
      "Int64Index: 148731 entries, 138546 to 32385\n",
      "Data columns (total 7 columns):\n",
      " #   Column              Non-Null Count   Dtype \n",
      "---  ------              --------------   ----- \n",
      " 0   article_id          148731 non-null  object\n",
      " 1   sectionName         148731 non-null  object\n",
      " 2   webTitle            148731 non-null  object\n",
      " 3   webUrl              148731 non-null  object\n",
      " 4   bodyContent         148731 non-null  object\n",
      " 5   webPublicationDate  148731 non-null  object\n",
      " 6   id                  148731 non-null  int64 \n",
      "dtypes: int64(1), object(6)\n",
      "memory usage: 9.1+ MB\n"
     ]
    }
   ],
   "source": [
    "df.info()"
   ]
  },
  {
   "cell_type": "markdown",
   "id": "6eac0aea",
   "metadata": {},
   "source": [
    "We can see that there are no null values, and that all but the *id* feature are strings of various length. We can verify again that there are no null values."
   ]
  },
  {
   "cell_type": "code",
   "execution_count": 7,
   "id": "bb26a62f",
   "metadata": {},
   "outputs": [
    {
     "data": {
      "text/plain": [
       "article_id            0\n",
       "sectionName           0\n",
       "webTitle              0\n",
       "webUrl                0\n",
       "bodyContent           0\n",
       "webPublicationDate    0\n",
       "id                    0\n",
       "dtype: int64"
      ]
     },
     "execution_count": 7,
     "metadata": {},
     "output_type": "execute_result"
    }
   ],
   "source": [
    "df.isnull().sum()"
   ]
  },
  {
   "cell_type": "markdown",
   "id": "b21e124d",
   "metadata": {},
   "source": [
    "Next, we can count the number of unique values in each column."
   ]
  },
  {
   "cell_type": "code",
   "execution_count": 8,
   "id": "2c146926",
   "metadata": {},
   "outputs": [
    {
     "data": {
      "text/plain": [
       "article_id            148720\n",
       "sectionName              159\n",
       "webTitle              147095\n",
       "webUrl                148720\n",
       "bodyContent           148440\n",
       "webPublicationDate    120024\n",
       "id                    148731\n",
       "dtype: int64"
      ]
     },
     "execution_count": 8,
     "metadata": {},
     "output_type": "execute_result"
    }
   ],
   "source": [
    "df.nunique()"
   ]
  },
  {
   "cell_type": "markdown",
   "id": "ba78dc71",
   "metadata": {},
   "source": [
    "It's the unique values in the *sectionName* column, our target feature, which are of interest. Let's print these. It's quite clear that some sections are actually quite specific. We may want to reduce the number of acceptable sections. This will be dealt with during pre-processing."
   ]
  },
  {
   "cell_type": "code",
   "execution_count": 9,
   "id": "c3116520",
   "metadata": {},
   "outputs": [
    {
     "name": "stdout",
     "output_type": "stream",
     "text": [
      "['Australia news' 'Society' 'Sport' 'Money' 'US news' 'Media'\n",
      " 'Environment' 'Business' 'Food' 'Fashion' 'Art and design'\n",
      " 'Life and style' 'Sustainability' 'Football' 'Politics' 'UK news' 'Books'\n",
      " 'Music' 'Opinion' 'Film' 'Television & radio' 'World news' 'Stage' 'News'\n",
      " 'Games' 'Science' 'Global development' 'Education'\n",
      " 'Healthcare Professionals Network' 'Membership' 'Culture' 'Technology'\n",
      " 'Travel' 'Global Development Professionals Network'\n",
      " 'Guardian Masterclasses' 'GNM press office' 'Crosswords'\n",
      " 'Voluntary Sector Network' 'Weather' 'Global' 'Social Care Network'\n",
      " 'Cities' 'Public Leaders Network' 'Housing Network'\n",
      " 'Guardian Small Business Network' 'Huelwear - clothes for the conscious'\n",
      " 'Working in development' 'Law' 'Guardian Foundation' 'Guardian Careers'\n",
      " 'From the Observer' 'From the Guardian' 'Inequality' 'Community'\n",
      " 'The University of Notre Dame: Ethical education'\n",
      " 'The invested generation' 'Guardian Sustainable Business'\n",
      " 'New faces of tech' 'Info' 'Salesforce: The Unfair Advantage'\n",
      " 'Society Professionals' \"Children's books\" 'Media Network'\n",
      " 'Teacher Network' 'Archie Rose: Tailored spirits' 'Dine: Hope Grows'\n",
      " 'Leisure like a local' 'Guardian US press office'\n",
      " 'Sustainable home improvements' 'Future-focused IT'\n",
      " 'Destination NSW: Uncover the unspoilt South Coast'\n",
      " 'Chromebook: Helping Chinatown' 'Brother: Doing business well'\n",
      " 'SBS On Demand: Are You Addicted to Technology' 'Meta: Buy Blak'\n",
      " 'Xero: Resilient business' 'Bank Australia: Collective good'\n",
      " 'wellbeing at work' 'Business to business'\n",
      " 'Culture professionals network' 'Community of solvers' 'The last taboo'\n",
      " 'The Life You Can Save: Effective giving' 'Help'\n",
      " 'Specsavers: Liberty London' 'Women in Leadership'\n",
      " 'Destination NSW: Road Trips' 'You could be here' 'Rediscover tequila'\n",
      " 'Animals farmed' 'Professional supplements'\n",
      " 'Further education: share your skills' 'De Bortoli: Going green'\n",
      " 'OPSM: a vision for safer roads'\n",
      " 'Commonwealth Bank Australia: Next Chapter'\n",
      " 'When more of us play, all of us win' 'OPSM: Life in focus'\n",
      " 'Dairy Australia: Healthy sustainable diets'\n",
      " 'The University of Melbourne: Graduating Performances'\n",
      " 'Higher Education Network' 'A vision for better food'\n",
      " 'Michelin: Built to keep you moving'\n",
      " 'Dairy Australia: Listen to your gut' 'Feasting with Ocado'\n",
      " 'Connected thinking' 'Australian World Orchestra: Zubin Mehta'\n",
      " 'Bank Australia: People Australia Needs' 'Powershop: Power potential'\n",
      " 'A time for Japan' 'WA Museum: Discovering Ancient Greece'\n",
      " 'Westpac Foundation: Investing in social enterprise'\n",
      " \"See if it's time to sell\" 'Plico: Renewable energy'\n",
      " 'Quest Apartment Hotels: As local as you like it'\n",
      " 'Unicef Australia: World Immunisation Week 2021'\n",
      " 'Cancer Council Victoria: Giving in Will'\n",
      " 'Dark Matter Distribution: The Leadership' 'Felix Mobile: The only one'\n",
      " 'Mirvac: Voyager' 'AMC+: Only the good stuff'\n",
      " 'Dairy Australia: Sustainable futures' 'Focus'\n",
      " 'Guardian Australia press office' 'Side Hustle' 'Guardian Live Australia'\n",
      " 'Travel Associates: Get out there in the Red Centre' 'Trade Boost'\n",
      " 'Dairy Australia: fracture research' 'Square: Good business'\n",
      " 'Australia Post: Creating connections' 'Seek: The new world of work'\n",
      " 'Cathay Pacific: Upgrade your experience' 'Cannes Lions'\n",
      " 'Tourism NT: Territory Art Trails' 'HBF: Never Settle'\n",
      " 'Amazon Prime Video: Truth Seekers' 'SBS: A world of difference'\n",
      " 'Boutique Homes: My home my way' 'Kyco: Full transparency'\n",
      " 'HBF: Healthy choices' 'BMW: Sustainable mobility'\n",
      " 'Macquarie: Home of electric vehicles' 'Dairy Australia: We need to talk'\n",
      " 'Snooze: Investing In Sleep' 'Curtin University: Why study law'\n",
      " 'IFAW: Help animals thrive'\n",
      " 'Plan International Australia: Global Hunger Crisis Appeal' 'About'\n",
      " 'The Fred Hollows Foundation: 30 years of restoring sight'\n",
      " 'SBS On Demand: New Gold Mountain' 'Westpac Scholars: Rethink tomorrow'\n",
      " 'MG Motor: Switch to electric' 'GNM archive' 'SBS On Demand'\n",
      " 'Dairy Australia: The food matrix'\n",
      " 'Marine Stewardship Council: Saltwater Schools' 'WEHI: Brighter together'\n",
      " \"Helga's: Capturing kindness\" 'Celebrating women engineers 2022']\n"
     ]
    }
   ],
   "source": [
    "print(df['sectionName'].unique())"
   ]
  },
  {
   "cell_type": "markdown",
   "id": "15f792fd",
   "metadata": {},
   "source": [
    "Let's get a sense of the number of examples in each category, by printing the top 30. We can see that there is a significant class imbalance problem. This will be dealt with during pre-processing. "
   ]
  },
  {
   "cell_type": "code",
   "execution_count": 10,
   "id": "be06ff52",
   "metadata": {},
   "outputs": [
    {
     "data": {
      "text/plain": [
       "<AxesSubplot: >"
      ]
     },
     "execution_count": 10,
     "metadata": {},
     "output_type": "execute_result"
    },
    {
     "data": {
      "image/png": "[encoded data removed]",
      "text/plain": [
       "<Figure size 640x480 with 1 Axes>"
      ]
     },
     "metadata": {},
     "output_type": "display_data"
    }
   ],
   "source": [
    "df['sectionName'].value_counts()[:30].plot(kind='barh')"
   ]
  },
  {
   "cell_type": "markdown",
   "id": "daec64c3",
   "metadata": {},
   "source": [
    "## 2. Pre-Processing <a class=\"anchor\" id=\"pre-bullet\"></a>"
   ]
  },
  {
   "cell_type": "markdown",
   "id": "97c5e992",
   "metadata": {},
   "source": [
    "[TOP ↑](#top)"
   ]
  },
  {
   "cell_type": "markdown",
   "id": "4f5668e5",
   "metadata": {},
   "source": [
    "In pre-processing, we must convert the raw data into a form which we can feed into a deep network. This will require the input and label data to be transformed into NumPy arrays. In general, pre-processing will require feature reduction, data transformation, target variable extraction, undersampling, label encoding, data partitioning, and text embedding."
   ]
  },
  {
   "cell_type": "markdown",
   "id": "daf3c9c5",
   "metadata": {},
   "source": [
    "### i. Feature Reduction <a class=\"anchor\" id=\"a-bullet\"></a>"
   ]
  },
  {
   "cell_type": "markdown",
   "id": "6025a6a1",
   "metadata": {},
   "source": [
    "[TOP ↑](#top)"
   ]
  },
  {
   "cell_type": "markdown",
   "id": "d66ffb62",
   "metadata": {},
   "source": [
    "First, since we're only interested in the text of the articles, the title, and the section name, we'll drop all columns apart from *bodyContent*, *webTitle*, and *sectionName*."
   ]
  },
  {
   "cell_type": "code",
   "execution_count": 11,
   "id": "60b669a6",
   "metadata": {},
   "outputs": [],
   "source": [
    "df = df.drop([\"article_id\", \"webUrl\", \"webPublicationDate\", \"id\"], axis='columns')"
   ]
  },
  {
   "cell_type": "code",
   "execution_count": 12,
   "id": "6def5606",
   "metadata": {},
   "outputs": [
    {
     "data": {
      "text/html": [
       "<div>\n",
       "<style scoped>\n",
       "    .dataframe tbody tr th:only-of-type {\n",
       "        vertical-align: middle;\n",
       "    }\n",
       "\n",
       "    .dataframe tbody tr th {\n",
       "        vertical-align: top;\n",
       "    }\n",
       "\n",
       "    .dataframe thead th {\n",
       "        text-align: right;\n",
       "    }\n",
       "</style>\n",
       "<table border=\"1\" class=\"dataframe\">\n",
       "  <thead>\n",
       "    <tr style=\"text-align: right;\">\n",
       "      <th></th>\n",
       "      <th>sectionName</th>\n",
       "      <th>webTitle</th>\n",
       "      <th>bodyContent</th>\n",
       "    </tr>\n",
       "  </thead>\n",
       "  <tbody>\n",
       "    <tr>\n",
       "      <th>138546</th>\n",
       "      <td>Australia news</td>\n",
       "      <td>NSW government has ‘always known’ Covid deaths...</td>\n",
       "      <td>The New South Wales premier, Dominic Perrottet...</td>\n",
       "    </tr>\n",
       "    <tr>\n",
       "      <th>88013</th>\n",
       "      <td>Society</td>\n",
       "      <td>Helping parents choose vaccination for their c...</td>\n",
       "      <td>I am not sure that making immunisations compul...</td>\n",
       "    </tr>\n",
       "    <tr>\n",
       "      <th>14885</th>\n",
       "      <td>Sport</td>\n",
       "      <td>It is hard to get excited about a question mar...</td>\n",
       "      <td>This is a story that starts, in a manner of sp...</td>\n",
       "    </tr>\n",
       "    <tr>\n",
       "      <th>139824</th>\n",
       "      <td>Australia news</td>\n",
       "      <td>Grace Tame and Scott Morrison’s frosty meeting...</td>\n",
       "      <td>Pictures capturing an apparently frosty moment...</td>\n",
       "    </tr>\n",
       "    <tr>\n",
       "      <th>92431</th>\n",
       "      <td>Money</td>\n",
       "      <td>Tesco recalls Heinz baby food jars after metal...</td>\n",
       "      <td>Tesco has recalled thousands of jars of Heinz ...</td>\n",
       "    </tr>\n",
       "  </tbody>\n",
       "</table>\n",
       "</div>"
      ],
      "text/plain": [
       "           sectionName                                           webTitle  \\\n",
       "138546  Australia news  NSW government has ‘always known’ Covid deaths...   \n",
       "88013          Society  Helping parents choose vaccination for their c...   \n",
       "14885            Sport  It is hard to get excited about a question mar...   \n",
       "139824  Australia news  Grace Tame and Scott Morrison’s frosty meeting...   \n",
       "92431            Money  Tesco recalls Heinz baby food jars after metal...   \n",
       "\n",
       "                                              bodyContent  \n",
       "138546  The New South Wales premier, Dominic Perrottet...  \n",
       "88013   I am not sure that making immunisations compul...  \n",
       "14885   This is a story that starts, in a manner of sp...  \n",
       "139824  Pictures capturing an apparently frosty moment...  \n",
       "92431   Tesco has recalled thousands of jars of Heinz ...  "
      ]
     },
     "execution_count": 12,
     "metadata": {},
     "output_type": "execute_result"
    }
   ],
   "source": [
    "df.head()"
   ]
  },
  {
   "cell_type": "markdown",
   "id": "75a4bda5",
   "metadata": {},
   "source": [
    "### ii. Number of Labels and Data Quality <a class=\"anchor\" id=\"b-bullet\"></a>"
   ]
  },
  {
   "cell_type": "markdown",
   "id": "ae3a3f25",
   "metadata": {},
   "source": [
    "[TOP ↑](#top)"
   ]
  },
  {
   "cell_type": "markdown",
   "id": "36e8c3d1",
   "metadata": {},
   "source": [
    "Now, for data quality reasons, we'll drop any duplicated records that might be present in the dataset."
   ]
  },
  {
   "cell_type": "code",
   "execution_count": 13,
   "id": "6326f8e6",
   "metadata": {},
   "outputs": [
    {
     "name": "stdout",
     "output_type": "stream",
     "text": [
      "148731\n"
     ]
    }
   ],
   "source": [
    "print(len(df))"
   ]
  },
  {
   "cell_type": "code",
   "execution_count": 14,
   "id": "71438ee4",
   "metadata": {},
   "outputs": [
    {
     "name": "stdout",
     "output_type": "stream",
     "text": [
      "148494\n"
     ]
    }
   ],
   "source": [
    "df = df.drop_duplicates()\n",
    "print(len(df))"
   ]
  },
  {
   "cell_type": "markdown",
   "id": "a8c02d74",
   "metadata": {},
   "source": [
    "Importantly, we must set a minumum number of records to ensure that, for each label in the dataset, there are a sufficient number of examples for training to take place. This will be especially important when balancing the dataset. We'll include only those sections which have a minumum number of examples, which we can decide here by setting the ```min_number_records```."
   ]
  },
  {
   "cell_type": "code",
   "execution_count": 15,
   "id": "84eaf69a",
   "metadata": {},
   "outputs": [],
   "source": [
    "min_number_records = 10000"
   ]
  },
  {
   "cell_type": "markdown",
   "id": "258a7308",
   "metadata": {},
   "source": [
    "We can count the number of labels in the dataset and remove those records which come from a section with too few examples, less than the number chosen above."
   ]
  },
  {
   "cell_type": "code",
   "execution_count": 16,
   "id": "0abfc951",
   "metadata": {},
   "outputs": [],
   "source": [
    "# Count the frequency of each label in the DataFrame\n",
    "label_counts = df['sectionName'].value_counts()\n",
    "\n",
    "# Select labels that appear less than the requisite number of times\n",
    "less_than_two = label_counts[label_counts <= min_number_records]\n",
    "\n",
    "# Get the indices of records that contain the selected labels\n",
    "indices_to_drop = df[df['sectionName'].isin(less_than_two.index)].index\n",
    "\n",
    "# Remove records with the selected indices\n",
    "df = df.drop(indices_to_drop)"
   ]
  },
  {
   "cell_type": "markdown",
   "id": "47b5d233",
   "metadata": {},
   "source": [
    "Let's also print the number of unique labels present after processing."
   ]
  },
  {
   "cell_type": "code",
   "execution_count": 17,
   "id": "df63fe5b",
   "metadata": {},
   "outputs": [
    {
     "name": "stdout",
     "output_type": "stream",
     "text": [
      "The number of unique labels in the dataset is: 4\n"
     ]
    }
   ],
   "source": [
    "unique_labels = df['sectionName'].nunique()\n",
    "print(f\"The number of unique labels in the dataset is:\", unique_labels)"
   ]
  },
  {
   "cell_type": "markdown",
   "id": "341b228f",
   "metadata": {},
   "source": [
    "### iii. Remove Stop Words and Lemmatisation <a class=\"anchor\" id=\"c-bullet\"></a>"
   ]
  },
  {
   "cell_type": "markdown",
   "id": "e5915093",
   "metadata": {},
   "source": [
    "[TOP ↑](#top)"
   ]
  },
  {
   "cell_type": "markdown",
   "id": "5af999a1",
   "metadata": {},
   "source": [
    "Next, since we're merely classifying the articles, and not conducting a more nuanced interrogation of the text, such as sentiment analysis, we can remove stop words and perform lemmatisation in order to improve the efficiency and accuracy of the modelling."
   ]
  },
  {
   "cell_type": "code",
   "execution_count": 18,
   "id": "ee868f2c",
   "metadata": {},
   "outputs": [],
   "source": [
    "#nltk.download('wordnet')\n",
    "# Set the English stop words\n",
    "stop_words = set(stopwords.words(\"english\")) \n",
    "lemmatizer = WordNetLemmatizer()\n",
    "# Create a function to turn all the text to lower case, and perform tokenisation and lemmatisation\n",
    "def clean_text(text):\n",
    "    text = re.sub(r'[^\\w\\s]','',text, re.UNICODE)\n",
    "    text = text.lower()\n",
    "    text = [lemmatizer.lemmatize(token) for token in text.split(\" \")]\n",
    "    text = [lemmatizer.lemmatize(token, \"v\") for token in text]\n",
    "    text = [word for word in text if not word in stop_words]\n",
    "    text = \" \".join(text)\n",
    "    return text\n",
    "# Create a new column with the cleaned text, let's simply call it content\n",
    "df['content'] = df['bodyContent'].apply(lambda x: clean_text(x))"
   ]
  },
  {
   "cell_type": "code",
   "execution_count": 19,
   "id": "8c5a267a",
   "metadata": {},
   "outputs": [],
   "source": [
    "# Create a new column with the cleaned text, let's simply call it title_content\n",
    "df['title_content'] = df['webTitle'].apply(lambda x: clean_text(x))"
   ]
  },
  {
   "cell_type": "markdown",
   "id": "385c76af",
   "metadata": {},
   "source": [
    "We can print the head to verify that the processing worked and that the new columns were created."
   ]
  },
  {
   "cell_type": "code",
   "execution_count": 20,
   "id": "affa4fd0",
   "metadata": {},
   "outputs": [
    {
     "data": {
      "text/html": [
       "<div>\n",
       "<style scoped>\n",
       "    .dataframe tbody tr th:only-of-type {\n",
       "        vertical-align: middle;\n",
       "    }\n",
       "\n",
       "    .dataframe tbody tr th {\n",
       "        vertical-align: top;\n",
       "    }\n",
       "\n",
       "    .dataframe thead th {\n",
       "        text-align: right;\n",
       "    }\n",
       "</style>\n",
       "<table border=\"1\" class=\"dataframe\">\n",
       "  <thead>\n",
       "    <tr style=\"text-align: right;\">\n",
       "      <th></th>\n",
       "      <th>sectionName</th>\n",
       "      <th>webTitle</th>\n",
       "      <th>bodyContent</th>\n",
       "      <th>content</th>\n",
       "      <th>title_content</th>\n",
       "    </tr>\n",
       "  </thead>\n",
       "  <tbody>\n",
       "    <tr>\n",
       "      <th>14885</th>\n",
       "      <td>Sport</td>\n",
       "      <td>It is hard to get excited about a question mar...</td>\n",
       "      <td>This is a story that starts, in a manner of sp...</td>\n",
       "      <td>story start manner speak astonish score spree ...</td>\n",
       "      <td>hard get excite question mark hide undisclosed...</td>\n",
       "    </tr>\n",
       "    <tr>\n",
       "      <th>60175</th>\n",
       "      <td>Sport</td>\n",
       "      <td>Saracens have the look of champions and Bristo...</td>\n",
       "      <td>Bath Director of rugby Todd Blackadder Perhaps...</td>\n",
       "      <td>bath director rugby todd blackadder perhaps ey...</td>\n",
       "      <td>saracen look champion bristol make mark</td>\n",
       "    </tr>\n",
       "    <tr>\n",
       "      <th>124370</th>\n",
       "      <td>Football</td>\n",
       "      <td>From Pirlo to no-go: what happened to New York...</td>\n",
       "      <td>New York has always been Major League Soccer’s...</td>\n",
       "      <td>new york ha always major league soccer toughes...</td>\n",
       "      <td>pirlo nogo happen new york era foreign ml mega...</td>\n",
       "    </tr>\n",
       "    <tr>\n",
       "      <th>68340</th>\n",
       "      <td>Opinion</td>\n",
       "      <td>You can’t escape Christmas – not even with a C...</td>\n",
       "      <td>Can you ever truly escape Christmas? In 2007, ...</td>\n",
       "      <td>ever truly escape christmas 2007 discover cann...</td>\n",
       "      <td>cant escape christmas  even caribbean holiday ...</td>\n",
       "    </tr>\n",
       "    <tr>\n",
       "      <th>85817</th>\n",
       "      <td>Opinion</td>\n",
       "      <td>Johnson’s plan is to turn his supreme court hu...</td>\n",
       "      <td>An angry and disturbingly pumped-up Boris John...</td>\n",
       "      <td>angry disturbingly pumpedup boris johnson resp...</td>\n",
       "      <td>johnson plan turn supreme court humiliation ro...</td>\n",
       "    </tr>\n",
       "  </tbody>\n",
       "</table>\n",
       "</div>"
      ],
      "text/plain": [
       "       sectionName                                           webTitle  \\\n",
       "14885        Sport  It is hard to get excited about a question mar...   \n",
       "60175        Sport  Saracens have the look of champions and Bristo...   \n",
       "124370    Football  From Pirlo to no-go: what happened to New York...   \n",
       "68340      Opinion  You can’t escape Christmas – not even with a C...   \n",
       "85817      Opinion  Johnson’s plan is to turn his supreme court hu...   \n",
       "\n",
       "                                              bodyContent  \\\n",
       "14885   This is a story that starts, in a manner of sp...   \n",
       "60175   Bath Director of rugby Todd Blackadder Perhaps...   \n",
       "124370  New York has always been Major League Soccer’s...   \n",
       "68340   Can you ever truly escape Christmas? In 2007, ...   \n",
       "85817   An angry and disturbingly pumped-up Boris John...   \n",
       "\n",
       "                                                  content  \\\n",
       "14885   story start manner speak astonish score spree ...   \n",
       "60175   bath director rugby todd blackadder perhaps ey...   \n",
       "124370  new york ha always major league soccer toughes...   \n",
       "68340   ever truly escape christmas 2007 discover cann...   \n",
       "85817   angry disturbingly pumpedup boris johnson resp...   \n",
       "\n",
       "                                            title_content  \n",
       "14885   hard get excite question mark hide undisclosed...  \n",
       "60175             saracen look champion bristol make mark  \n",
       "124370  pirlo nogo happen new york era foreign ml mega...  \n",
       "68340   cant escape christmas  even caribbean holiday ...  \n",
       "85817   johnson plan turn supreme court humiliation ro...  "
      ]
     },
     "execution_count": 20,
     "metadata": {},
     "output_type": "execute_result"
    }
   ],
   "source": [
    "df.head()"
   ]
  },
  {
   "cell_type": "markdown",
   "id": "0cbc84f6",
   "metadata": {},
   "source": [
    "Finally, we can concatenate the two article title and the article content into a combined *concatenated* column."
   ]
  },
  {
   "cell_type": "code",
   "execution_count": 21,
   "id": "528d5c6e",
   "metadata": {},
   "outputs": [],
   "source": [
    "df['concatenated'] = df['title_content'] + ' ' + df['content']"
   ]
  },
  {
   "cell_type": "code",
   "execution_count": 22,
   "id": "af63a859",
   "metadata": {},
   "outputs": [
    {
     "data": {
      "text/html": [
       "<div>\n",
       "<style scoped>\n",
       "    .dataframe tbody tr th:only-of-type {\n",
       "        vertical-align: middle;\n",
       "    }\n",
       "\n",
       "    .dataframe tbody tr th {\n",
       "        vertical-align: top;\n",
       "    }\n",
       "\n",
       "    .dataframe thead th {\n",
       "        text-align: right;\n",
       "    }\n",
       "</style>\n",
       "<table border=\"1\" class=\"dataframe\">\n",
       "  <thead>\n",
       "    <tr style=\"text-align: right;\">\n",
       "      <th></th>\n",
       "      <th>sectionName</th>\n",
       "      <th>webTitle</th>\n",
       "      <th>bodyContent</th>\n",
       "      <th>content</th>\n",
       "      <th>title_content</th>\n",
       "      <th>concatenated</th>\n",
       "    </tr>\n",
       "  </thead>\n",
       "  <tbody>\n",
       "    <tr>\n",
       "      <th>14885</th>\n",
       "      <td>Sport</td>\n",
       "      <td>It is hard to get excited about a question mar...</td>\n",
       "      <td>This is a story that starts, in a manner of sp...</td>\n",
       "      <td>story start manner speak astonish score spree ...</td>\n",
       "      <td>hard get excite question mark hide undisclosed...</td>\n",
       "      <td>hard get excite question mark hide undisclosed...</td>\n",
       "    </tr>\n",
       "    <tr>\n",
       "      <th>60175</th>\n",
       "      <td>Sport</td>\n",
       "      <td>Saracens have the look of champions and Bristo...</td>\n",
       "      <td>Bath Director of rugby Todd Blackadder Perhaps...</td>\n",
       "      <td>bath director rugby todd blackadder perhaps ey...</td>\n",
       "      <td>saracen look champion bristol make mark</td>\n",
       "      <td>saracen look champion bristol make mark bath d...</td>\n",
       "    </tr>\n",
       "    <tr>\n",
       "      <th>124370</th>\n",
       "      <td>Football</td>\n",
       "      <td>From Pirlo to no-go: what happened to New York...</td>\n",
       "      <td>New York has always been Major League Soccer’s...</td>\n",
       "      <td>new york ha always major league soccer toughes...</td>\n",
       "      <td>pirlo nogo happen new york era foreign ml mega...</td>\n",
       "      <td>pirlo nogo happen new york era foreign ml mega...</td>\n",
       "    </tr>\n",
       "    <tr>\n",
       "      <th>68340</th>\n",
       "      <td>Opinion</td>\n",
       "      <td>You can’t escape Christmas – not even with a C...</td>\n",
       "      <td>Can you ever truly escape Christmas? In 2007, ...</td>\n",
       "      <td>ever truly escape christmas 2007 discover cann...</td>\n",
       "      <td>cant escape christmas  even caribbean holiday ...</td>\n",
       "      <td>cant escape christmas  even caribbean holiday ...</td>\n",
       "    </tr>\n",
       "    <tr>\n",
       "      <th>85817</th>\n",
       "      <td>Opinion</td>\n",
       "      <td>Johnson’s plan is to turn his supreme court hu...</td>\n",
       "      <td>An angry and disturbingly pumped-up Boris John...</td>\n",
       "      <td>angry disturbingly pumpedup boris johnson resp...</td>\n",
       "      <td>johnson plan turn supreme court humiliation ro...</td>\n",
       "      <td>johnson plan turn supreme court humiliation ro...</td>\n",
       "    </tr>\n",
       "  </tbody>\n",
       "</table>\n",
       "</div>"
      ],
      "text/plain": [
       "       sectionName                                           webTitle  \\\n",
       "14885        Sport  It is hard to get excited about a question mar...   \n",
       "60175        Sport  Saracens have the look of champions and Bristo...   \n",
       "124370    Football  From Pirlo to no-go: what happened to New York...   \n",
       "68340      Opinion  You can’t escape Christmas – not even with a C...   \n",
       "85817      Opinion  Johnson’s plan is to turn his supreme court hu...   \n",
       "\n",
       "                                              bodyContent  \\\n",
       "14885   This is a story that starts, in a manner of sp...   \n",
       "60175   Bath Director of rugby Todd Blackadder Perhaps...   \n",
       "124370  New York has always been Major League Soccer’s...   \n",
       "68340   Can you ever truly escape Christmas? In 2007, ...   \n",
       "85817   An angry and disturbingly pumped-up Boris John...   \n",
       "\n",
       "                                                  content  \\\n",
       "14885   story start manner speak astonish score spree ...   \n",
       "60175   bath director rugby todd blackadder perhaps ey...   \n",
       "124370  new york ha always major league soccer toughes...   \n",
       "68340   ever truly escape christmas 2007 discover cann...   \n",
       "85817   angry disturbingly pumpedup boris johnson resp...   \n",
       "\n",
       "                                            title_content  \\\n",
       "14885   hard get excite question mark hide undisclosed...   \n",
       "60175             saracen look champion bristol make mark   \n",
       "124370  pirlo nogo happen new york era foreign ml mega...   \n",
       "68340   cant escape christmas  even caribbean holiday ...   \n",
       "85817   johnson plan turn supreme court humiliation ro...   \n",
       "\n",
       "                                             concatenated  \n",
       "14885   hard get excite question mark hide undisclosed...  \n",
       "60175   saracen look champion bristol make mark bath d...  \n",
       "124370  pirlo nogo happen new york era foreign ml mega...  \n",
       "68340   cant escape christmas  even caribbean holiday ...  \n",
       "85817   johnson plan turn supreme court humiliation ro...  "
      ]
     },
     "execution_count": 22,
     "metadata": {},
     "output_type": "execute_result"
    }
   ],
   "source": [
    "df.head()"
   ]
  },
  {
   "cell_type": "markdown",
   "id": "ca813d5f",
   "metadata": {},
   "source": [
    "### iv. Target Variable Extraction <a class=\"anchor\" id=\"d-bullet\"></a>"
   ]
  },
  {
   "cell_type": "markdown",
   "id": "66e60673",
   "metadata": {},
   "source": [
    "[TOP ↑](#top)"
   ]
  },
  {
   "cell_type": "markdown",
   "id": "d21e2dfa",
   "metadata": {},
   "source": [
    "We need to separate our dataframe into input (**X**) and label (**y**) data in the form of a matrix and vector for inclusion in the neural network model."
   ]
  },
  {
   "cell_type": "markdown",
   "id": "a0f19c13",
   "metadata": {},
   "source": [
    "First, we'll deal with the input data, setting **X** to be equivalent to our dataframe including only the content column."
   ]
  },
  {
   "cell_type": "code",
   "execution_count": 23,
   "id": "ef0df306",
   "metadata": {},
   "outputs": [],
   "source": [
    "# We'll just set X to be equivalent to the dataframe including only the content\n",
    "X = df.drop(['sectionName', 'bodyContent', 'webTitle', 'content', 'title_content'], axis=1)"
   ]
  },
  {
   "cell_type": "code",
   "execution_count": 24,
   "id": "e015c467",
   "metadata": {},
   "outputs": [
    {
     "name": "stdout",
     "output_type": "stream",
     "text": [
      "(48425, 1)\n"
     ]
    }
   ],
   "source": [
    "# Print the shape of X\n",
    "print(X.shape)"
   ]
  },
  {
   "cell_type": "code",
   "execution_count": 25,
   "id": "7ebf00ff",
   "metadata": {},
   "outputs": [
    {
     "name": "stdout",
     "output_type": "stream",
     "text": [
      "<class 'pandas.core.frame.DataFrame'>\n"
     ]
    }
   ],
   "source": [
    "# Print the type of X, which should be a dataframe\n",
    "print(type(X))"
   ]
  },
  {
   "cell_type": "code",
   "execution_count": 26,
   "id": "cbb021bb",
   "metadata": {},
   "outputs": [
    {
     "name": "stdout",
     "output_type": "stream",
     "text": [
      "                                             concatenated\n",
      "14885   hard get excite question mark hide undisclosed...\n",
      "60175   saracen look champion bristol make mark bath d...\n",
      "124370  pirlo nogo happen new york era foreign ml mega...\n",
      "68340   cant escape christmas  even caribbean holiday ...\n",
      "85817   johnson plan turn supreme court humiliation ro...\n",
      "...                                                   ...\n",
      "96173   gett israeli taxi app sue service use avoid ar...\n",
      "47546   revolution take president club keep go  kj whi...\n",
      "113223  mass covid19 test start england head tory revo...\n",
      "18390   diy doctor new zealand medical student operate...\n",
      "119743  brexit spain deny report round deport briton w...\n",
      "\n",
      "[48425 rows x 1 columns]\n"
     ]
    }
   ],
   "source": [
    "print(X)"
   ]
  },
  {
   "cell_type": "code",
   "execution_count": 27,
   "id": "669a7a9d",
   "metadata": {},
   "outputs": [
    {
     "data": {
      "text/html": [
       "<div>\n",
       "<style scoped>\n",
       "    .dataframe tbody tr th:only-of-type {\n",
       "        vertical-align: middle;\n",
       "    }\n",
       "\n",
       "    .dataframe tbody tr th {\n",
       "        vertical-align: top;\n",
       "    }\n",
       "\n",
       "    .dataframe thead th {\n",
       "        text-align: right;\n",
       "    }\n",
       "</style>\n",
       "<table border=\"1\" class=\"dataframe\">\n",
       "  <thead>\n",
       "    <tr style=\"text-align: right;\">\n",
       "      <th></th>\n",
       "      <th>concatenated</th>\n",
       "    </tr>\n",
       "  </thead>\n",
       "  <tbody>\n",
       "    <tr>\n",
       "      <th>14885</th>\n",
       "      <td>hard get excite question mark hide undisclosed...</td>\n",
       "    </tr>\n",
       "    <tr>\n",
       "      <th>60175</th>\n",
       "      <td>saracen look champion bristol make mark bath d...</td>\n",
       "    </tr>\n",
       "    <tr>\n",
       "      <th>124370</th>\n",
       "      <td>pirlo nogo happen new york era foreign ml mega...</td>\n",
       "    </tr>\n",
       "    <tr>\n",
       "      <th>68340</th>\n",
       "      <td>cant escape christmas  even caribbean holiday ...</td>\n",
       "    </tr>\n",
       "    <tr>\n",
       "      <th>85817</th>\n",
       "      <td>johnson plan turn supreme court humiliation ro...</td>\n",
       "    </tr>\n",
       "  </tbody>\n",
       "</table>\n",
       "</div>"
      ],
      "text/plain": [
       "                                             concatenated\n",
       "14885   hard get excite question mark hide undisclosed...\n",
       "60175   saracen look champion bristol make mark bath d...\n",
       "124370  pirlo nogo happen new york era foreign ml mega...\n",
       "68340   cant escape christmas  even caribbean holiday ...\n",
       "85817   johnson plan turn supreme court humiliation ro..."
      ]
     },
     "execution_count": 27,
     "metadata": {},
     "output_type": "execute_result"
    }
   ],
   "source": [
    "X.head()"
   ]
  },
  {
   "cell_type": "markdown",
   "id": "8886ba92",
   "metadata": {},
   "source": [
    "Next, we'll deal with the label data, setting **y** to be a series with only the section name."
   ]
  },
  {
   "cell_type": "code",
   "execution_count": 28,
   "id": "b335220a",
   "metadata": {},
   "outputs": [],
   "source": [
    "# We'll set y to be the vector of labels\n",
    "y = df['sectionName']"
   ]
  },
  {
   "cell_type": "code",
   "execution_count": 29,
   "id": "12cc7afb",
   "metadata": {},
   "outputs": [
    {
     "name": "stdout",
     "output_type": "stream",
     "text": [
      "(48425,)\n"
     ]
    }
   ],
   "source": [
    "# Print the shape of y\n",
    "print(y.shape)"
   ]
  },
  {
   "cell_type": "code",
   "execution_count": 30,
   "id": "bb447946",
   "metadata": {},
   "outputs": [
    {
     "name": "stdout",
     "output_type": "stream",
     "text": [
      "<class 'pandas.core.series.Series'>\n"
     ]
    }
   ],
   "source": [
    "# Print the type of y, which should be a series\n",
    "print(type(y))"
   ]
  },
  {
   "cell_type": "code",
   "execution_count": 31,
   "id": "d4e4c32a",
   "metadata": {},
   "outputs": [
    {
     "name": "stdout",
     "output_type": "stream",
     "text": [
      "14885          Sport\n",
      "60175          Sport\n",
      "124370      Football\n",
      "68340        Opinion\n",
      "85817        Opinion\n",
      "             ...    \n",
      "96173     World news\n",
      "47546        Opinion\n",
      "113223    World news\n",
      "18390     World news\n",
      "119743    World news\n",
      "Name: sectionName, Length: 48425, dtype: object\n"
     ]
    }
   ],
   "source": [
    "print(y)"
   ]
  },
  {
   "cell_type": "markdown",
   "id": "327c5b9c",
   "metadata": {},
   "source": [
    "### v. Undersampling the Data <a class=\"anchor\" id=\"e-bullet\"></a>"
   ]
  },
  {
   "cell_type": "markdown",
   "id": "45d047ad",
   "metadata": {},
   "source": [
    "[TOP ↑](#top)"
   ]
  },
  {
   "cell_type": "markdown",
   "id": "172e4cb6",
   "metadata": {},
   "source": [
    "Since there is a significant class imbalance problem in this dataset, this will need to be remedied somehow. I experimented with using class weights (from sklearn) during training, but achieved better results by undersampling. Undersampling also helped to solve another problem: the large size of the dataset. With undersampling, we still retain a sufficient number of examples to achieve high accuracy but reduce the overall computation time."
   ]
  },
  {
   "cell_type": "markdown",
   "id": "b1d7a867",
   "metadata": {},
   "source": [
    "The ```fit_resample``` method from the ```RandomUnderSampler``` class fits the under-sampler to the input data and then performs under-sampling to produce a new set of balanced data."
   ]
  },
  {
   "cell_type": "code",
   "execution_count": 32,
   "id": "6fa01666",
   "metadata": {},
   "outputs": [],
   "source": [
    "# Create an instance of the RandomUnderSampler class\n",
    "rus = RandomUnderSampler(random_state=38)\n",
    "\n",
    "# Undersample the dataset\n",
    "X, y = rus.fit_resample(X, y)"
   ]
  },
  {
   "cell_type": "markdown",
   "id": "dc0e7d70",
   "metadata": {},
   "source": [
    "We can quickly print the labels alongside the number of examples in the data for each one. These should be the same."
   ]
  },
  {
   "cell_type": "code",
   "execution_count": 33,
   "id": "e8551ee9",
   "metadata": {},
   "outputs": [
    {
     "name": "stdout",
     "output_type": "stream",
     "text": [
      "['Football' 'Opinion' 'Sport' 'World news'] [10266 10266 10266 10266]\n"
     ]
    }
   ],
   "source": [
    "# Get the unique elements and their counts\n",
    "unique_elements, counts = np.unique(y, return_counts=True)\n",
    "\n",
    "# Sort the counts in descending order and get the top 15\n",
    "sort_indices = np.argsort(-counts)\n",
    "top_elements = unique_elements[sort_indices][:30]\n",
    "top_counts = counts[sort_indices][:30]\n",
    "\n",
    "print(top_elements, top_counts)"
   ]
  },
  {
   "cell_type": "markdown",
   "id": "a8add865",
   "metadata": {},
   "source": [
    "### vi. Initial Label Encoding <a class=\"anchor\" id=\"f-bullet\"></a>"
   ]
  },
  {
   "cell_type": "markdown",
   "id": "267d7108",
   "metadata": {},
   "source": [
    "[TOP ↑](#top)"
   ]
  },
  {
   "cell_type": "markdown",
   "id": "0cb8ba72",
   "metadata": {},
   "source": [
    "Next, we're going to re-encode the target labels from strings to integers, using ```LabelEncoder()``` from the Scikit-Learn library, which will also output the **y** series as a 1-D NumPy array. "
   ]
  },
  {
   "cell_type": "code",
   "execution_count": 34,
   "id": "db7eb77f",
   "metadata": {},
   "outputs": [],
   "source": [
    "# Initialise the label encoder\n",
    "le = LabelEncoder()\n",
    "\n",
    "# Fit the label encoder to the data and transform the data\n",
    "y = le.fit_transform(y)"
   ]
  },
  {
   "cell_type": "code",
   "execution_count": 35,
   "id": "bd17c449",
   "metadata": {},
   "outputs": [
    {
     "name": "stdout",
     "output_type": "stream",
     "text": [
      "Unique labels: ['Football' 'Opinion' 'Sport' 'World news']\n",
      "Encoded values: [0 1 2 3]\n"
     ]
    }
   ],
   "source": [
    "# Get the labels and their encoded values\n",
    "labels = le.classes_\n",
    "values = le.transform(labels)\n",
    "\n",
    "# Print the labels and their encoded values\n",
    "print(\"Unique labels:\", labels)\n",
    "print(\"Encoded values:\", values)"
   ]
  },
  {
   "cell_type": "code",
   "execution_count": 36,
   "id": "4cd7d861",
   "metadata": {},
   "outputs": [
    {
     "name": "stdout",
     "output_type": "stream",
     "text": [
      "(41064,)\n"
     ]
    }
   ],
   "source": [
    "print(y.shape)"
   ]
  },
  {
   "cell_type": "code",
   "execution_count": 37,
   "id": "ee497fc6",
   "metadata": {},
   "outputs": [
    {
     "name": "stdout",
     "output_type": "stream",
     "text": [
      "<class 'numpy.ndarray'>\n"
     ]
    }
   ],
   "source": [
    "# Now, y should be a NumPy array\n",
    "print(type(y))"
   ]
  },
  {
   "cell_type": "code",
   "execution_count": 38,
   "id": "2c482b3d",
   "metadata": {},
   "outputs": [
    {
     "name": "stdout",
     "output_type": "stream",
     "text": [
      "[0 0 0 ... 3 3 3]\n"
     ]
    }
   ],
   "source": [
    "print(y)"
   ]
  },
  {
   "cell_type": "markdown",
   "id": "519422b3",
   "metadata": {},
   "source": [
    "### vii. Data Partitioning <a class=\"anchor\" id=\"g-bullet\"></a>"
   ]
  },
  {
   "cell_type": "markdown",
   "id": "2d541270",
   "metadata": {},
   "source": [
    "[TOP ↑](#top)"
   ]
  },
  {
   "cell_type": "markdown",
   "id": "59a86088",
   "metadata": {},
   "source": [
    "Next, we need to split our data into training (81%), validation (10%), and test sets (9%). I'd also like to ensure that the partitioning of the data is done via stratified sampling, in order to preserve the underlying label distribution."
   ]
  },
  {
   "cell_type": "code",
   "execution_count": 39,
   "id": "2e04780f",
   "metadata": {},
   "outputs": [],
   "source": [
    "X_train, X_test, y_train, y_test = train_test_split(X, y, test_size=0.1, stratify=y, random_state=42)\n",
    "X_train, X_val, y_train, y_val = train_test_split(X_train, y_train, test_size=0.1, stratify=y_train, random_state=42)"
   ]
  },
  {
   "cell_type": "code",
   "execution_count": 40,
   "id": "13ba25bf",
   "metadata": {},
   "outputs": [
    {
     "name": "stdout",
     "output_type": "stream",
     "text": [
      "The length of X_train is: 33261\n",
      "The length of X_val is: 3696\n",
      "The length of X_test is: 4107\n"
     ]
    }
   ],
   "source": [
    "print(f\"The length of X_train is:\", len(X_train))\n",
    "print(f\"The length of X_val is:\", len(X_val))\n",
    "print(f\"The length of X_test is:\", len(X_test))"
   ]
  },
  {
   "cell_type": "code",
   "execution_count": 41,
   "id": "4e9b9c56",
   "metadata": {},
   "outputs": [
    {
     "name": "stdout",
     "output_type": "stream",
     "text": [
      "The length of y_train is: 33261\n",
      "The length of y_val is: 3696\n",
      "The length of y_test is: 4107\n"
     ]
    }
   ],
   "source": [
    "print(f\"The length of y_train is:\", len(y_train))\n",
    "print(f\"The length of y_val is:\", len(y_val))\n",
    "print(f\"The length of y_test is:\", len(y_test))"
   ]
  },
  {
   "cell_type": "code",
   "execution_count": 42,
   "id": "cd740caf",
   "metadata": {},
   "outputs": [
    {
     "name": "stdout",
     "output_type": "stream",
     "text": [
      "The number of unique labels in the y_train set is: 4\n",
      "The number of unique labels in the y_val set is: 4\n",
      "The number of unique labels in the y_test set is: 4\n"
     ]
    }
   ],
   "source": [
    "unique_vals_ytrain = np.unique(y_train)\n",
    "unique_vals_yval = np.unique(y_val)\n",
    "unique_vals_ytest = np.unique(y_test)\n",
    "print(f\"The number of unique labels in the y_train set is:\", len(unique_vals_ytrain))\n",
    "print(f\"The number of unique labels in the y_val set is:\", len(unique_vals_yval))\n",
    "print(f\"The number of unique labels in the y_test set is:\", len(unique_vals_ytest))"
   ]
  },
  {
   "cell_type": "code",
   "execution_count": 43,
   "id": "de1e377d",
   "metadata": {},
   "outputs": [
    {
     "name": "stdout",
     "output_type": "stream",
     "text": [
      "The number of output labels is: 4\n"
     ]
    }
   ],
   "source": [
    "num_labels = len(unique_vals_ytrain)\n",
    "print(f\"The number of output labels is: {num_labels}\")"
   ]
  },
  {
   "cell_type": "code",
   "execution_count": 44,
   "id": "66245cbe",
   "metadata": {},
   "outputs": [
    {
     "name": "stdout",
     "output_type": "stream",
     "text": [
      "The X input shape is: (33261, 1)\n",
      "The y label shape is: (33261,)\n",
      "The length of the X and y arrays are the same: True\n"
     ]
    }
   ],
   "source": [
    "X_train_shape = X_train.shape\n",
    "y_train_shape = y_train.shape\n",
    "X_length = len(X)\n",
    "y_length = len(y)\n",
    "print(\"The X input shape is:\", X_train_shape)\n",
    "print(\"The y label shape is:\", y_train_shape)\n",
    "check_lengths = X_length == y_length\n",
    "print(f\"The length of the X and y arrays are the same: {check_lengths}\")"
   ]
  },
  {
   "cell_type": "code",
   "execution_count": 45,
   "id": "daaffb8b",
   "metadata": {},
   "outputs": [
    {
     "name": "stdout",
     "output_type": "stream",
     "text": [
      "<class 'pandas.core.frame.DataFrame'>\n",
      "<class 'numpy.ndarray'>\n"
     ]
    }
   ],
   "source": [
    "# We can print the types again, expecting a DataFrame and a NumPy array\n",
    "print(type(X_train))\n",
    "print(type(y_train))"
   ]
  },
  {
   "cell_type": "code",
   "execution_count": 46,
   "id": "6d9fe6d1",
   "metadata": {},
   "outputs": [],
   "source": [
    "# I'm copying the original input data, prior to performing text embedding, for use later on\n",
    "X_train_original_data = X_train.copy()\n",
    "X_val_original_data = X_val.copy()\n",
    "X_test_original_data = X_test.copy()"
   ]
  },
  {
   "cell_type": "markdown",
   "id": "39f76734",
   "metadata": {},
   "source": [
    "### vii. Text Embedding <a class=\"anchor\" id=\"h-bullet\"></a>"
   ]
  },
  {
   "cell_type": "markdown",
   "id": "132c6725",
   "metadata": {},
   "source": [
    "[TOP ↑](#top)"
   ]
  },
  {
   "cell_type": "markdown",
   "id": "73adba6d",
   "metadata": {},
   "source": [
    "Next, we need to perform the text embedding in order to convert the text content of the articles to numerical form, for feeding into the deep network.\n",
    "\n",
    "The ```maxlen``` parameter determines the maximum length of the input sequence, i.e. the number of words or tokens in each input text. Sequences that are shorter than this length will be padded with zeros, and sequences that are longer than this length will be truncated. It is a way of enforcing a fixed input size for the model. The ```max_features``` parameter determines the maximum number of unique words or tokens to be considered in the model's vocabulary. Words that appear less frequently than the top most common words will be replaced with an out-of-vocabulary token. It is a way of limiting the size of the embedding layer's weight matrix, which can speed up training and reduce overfitting. The ```embedding_size``` parameter determines the dimensionality of the embedding space, the size of the vector representation of each word in the vocabulary. A larger embedding size can capture more information about each word, but it requires more training data and can slow down training."
   ]
  },
  {
   "cell_type": "code",
   "execution_count": 47,
   "id": "7d0838eb",
   "metadata": {},
   "outputs": [],
   "source": [
    "# Here, we set the hyperparameters\n",
    "maxlen = 250\n",
    "max_features = 1500\n",
    "embedding_size = 8"
   ]
  },
  {
   "cell_type": "code",
   "execution_count": 48,
   "id": "e7f8960b",
   "metadata": {},
   "outputs": [],
   "source": [
    "# Create a tokenizer, which will remove punctuation and convert to lower case\n",
    "tokenizer = Tokenizer(num_words=max_features, filters='–!\"#$”%&()*+,-./:;<=>?@[\\\\]^_`{|}~\\t\\n', lower=True)"
   ]
  },
  {
   "cell_type": "markdown",
   "id": "35454ce5",
   "metadata": {},
   "source": [
    "First, we fit the tokenizer on the training data, then convert the training, validation, and test datasets to sequences of integer values based on this fitting."
   ]
  },
  {
   "cell_type": "markdown",
   "id": "b4bde338",
   "metadata": {},
   "source": [
    "**Training Data**"
   ]
  },
  {
   "cell_type": "markdown",
   "id": "bade4031",
   "metadata": {},
   "source": [
    "First, we must convert the values in the training dataframe to a NumPy array."
   ]
  },
  {
   "cell_type": "code",
   "execution_count": 49,
   "id": "cd77d0d0",
   "metadata": {},
   "outputs": [
    {
     "name": "stdout",
     "output_type": "stream",
     "text": [
      "<class 'pandas.core.frame.DataFrame'>\n"
     ]
    }
   ],
   "source": [
    "print(type(X_train))"
   ]
  },
  {
   "cell_type": "code",
   "execution_count": 50,
   "id": "1fac19bd",
   "metadata": {},
   "outputs": [],
   "source": [
    "X_train = X_train['concatenated'].values"
   ]
  },
  {
   "cell_type": "code",
   "execution_count": 51,
   "id": "34690e46",
   "metadata": {},
   "outputs": [
    {
     "name": "stdout",
     "output_type": "stream",
     "text": [
      "<class 'numpy.ndarray'>\n"
     ]
    }
   ],
   "source": [
    "print(type(X_train))"
   ]
  },
  {
   "cell_type": "code",
   "execution_count": 52,
   "id": "acba0948",
   "metadata": {},
   "outputs": [
    {
     "name": "stdout",
     "output_type": "stream",
     "text": [
      "['scar intrusive menace facial recognition  john naughton 18 july house common select committee science technology publish assessment work biometrics commissioner forensic science regulator guess citizen never hear two public servant pity important maintenance justice protection liberty human right current biometrics commissioner prof paul wile role keep review retention use police biometric material use dna sample custody image digital technology promise increase workload significantly seven year observe common committee since 2012 high court rule indefinite retention innocent people custody image wa unlawful yet practice continue system wa mean put place custody image keep six year review custody image unconvicted individual point weed delete havent photograph innocent people remain police national database doe matter basically image form basis watchlists automatic facialrecognition technology use police force public space ten year ago might much concern explosive growth realtime facialrecognition technology  current fascination uk police authority  mean it’s already become scandal could soon become crisis. several force conduct live trial technology public places. comment these, common report say “there grow evidence respected, independent body ‘regulatory lacuna’ [ie legislative vacuum] surround use automatic facial recognition ha call legal basis trial question. government, however, seem realise concede problem.”\\nfacial recognition ha become runaway technology, partly image provide perfect test bed machine-learning software internet prove inexhaustible source image train purposes. result, technology ha effectively commoditised. it’s everywhere it’s relatively cheap. social medium company obviously love (spot friend stag- hen-night party pics), mundane organisations, use access control, spot potential shoplifters, recognise repeat customers, etc etc. spook love it. authoritarian regime adore it. and, course, police force fascinate it, least provide “objective” grind stop search. are, however, problem corporate authoritarian tool. one technology flaky, prone errors, false positive bias. importantly, pathologically intrusive, privacy-eroding technology use general surveillance combination public video cameras. application doesn’t require knowledge, consent participation subject. – – use create general, suspicionless surveillance systems: jeremy bentham’s panopticon steroids. imagine public space – trafalgar square oxford street, say – throng people monitor cctv camera link facial-recognition machine. every time camera focus face, superimpose person’s visage name, plus information – nationality, age, visa status, educational qualifications, criminal conviction (if any), employment history, political party. science fiction. it’s possible work part world, notably china. it’s ha lead people liken technology plutonium others call outright ban it. two option control runaway technology. one treat like plutonium ban use civilian purposes. treat like radioactive isotope – ha important us medicine – regulate accordingly. oddly enough, microsoft suggests, argue “a government initiative regulate proper use facial-recognition technology, inform first bipartisan expert commission”. one tech giant start argue government regulation, know really get problem. i’m read faceapp fact there’s nice story wire faceapp hoo-ha wider contradictions. worry single russian-authored app facebook? data destiny stanford university sociologist michael rosenfeld colleague produce fascinate study date apps “disintermediated” (ie replaced) friend family link future life partners. visionary stuff “an image sensor isn’t ‘camera’ take ‘photos’ – it’s way let computer see.” read thoughtful blog post benedict evans computer vision change machine do.'\n",
      " 'fox chicken house boon snp  kevin mckenna patchy radio reception rural back road west central scotland wa play havoc stephen jardines midmorning phonein show radio scotland jardine seem referee heat live discussion desirability coronation chicken staple uk suburban garden buffet food product wasnt coronation chicken discuss  wa chlorinetreated chicken caller jardines show indication prospect chemically petrify beastie invade nation supermarket wa give middle scotland fit vapour spectre wa raise eagerness dr liam fox britain trade secretary conclude trade deal unite state deal could contingent britain agree ride coach horse food safety standard agree accept u poultry meat rinse detergent solution suffuse chemical would soon walk wee personal halo get worse u poultry spray chlorine cancel dodgy hygiene practice farmer early food process chain ussourced chicken ban eu country past 20 year fox accuse british medium obsess chlorinewashed chicken know isnt true though difficulty try fit chlorine-washed chicken” one line huge headline tabloid splash insurmountable. accord trade secretary, chlorine solution mere detail “at end stage one sector potential free trade agreement. say that.” don’t shy, fox, tell u u farmer chicken necessitate wash stuff put swim pools. britain’s brexit strategy begin negotiation 27 member state eu ha lead prediction descend farce. start proposition already farcical one, call ring that? farce first stop line call chaos, horribly wrong humiliation stop oblivion.\\nbritain’s brexit car crash go unnoticed non-eu nation seek compensatory trade deals. perhaps chlorine-washed chicken least it. perhaps supermarket work new warn display packet food: “this product meet highest food safety approval. however find trace human bone…” or: “don’t alarm detect movement food product…” it’ll great way make u vegetarian ease pressure nhs. better way demonstrate haughty disdain shifty european choose fox, boris johnson david davis form top order brexit bat line-up? fox man must somehow secure advantageous trade deal rest world compensate exit powerful lucrative alliance history international trade. perhaps theresa may think familiarity overseas hospitality would advantage. fox wa force resign defence secretary 2011 eagerness share foreign largesse close friend, lobbyist adam werritty, extend private ministry defence meet meet defence contractors, though security clearance. johnson man whose response financial meltdown 2008 ha keep pay banker cause massive bonuses. u state department official collapse giggle johnson wa appoint britain’s foreign secretary. accord one senior uk political reporter, friend work foreign office call say: “boris fuck johnson beirut deal syria? can’t even deal lunacy.” barely year brexit, former head vote leave campaign ha brand uk’s brexit secretary, david davis, “thick mince, lazy toad vain narcissus”. ha also begin dawn senior eu official talk openly disbelief badly prepare incompetent uk team ha start brexit negotiations. view seem bear startle sight davis leave crucial open session second round talk eu counterpart, michel barnier, three hours. wa declare “getting substance matter”. frankly, think wa outrageous barnier hadn’t brief fact english tory let nothing come afternoon pimm’s.\\nwe also begin see scot vote 2:1 remain eu. thinktank centre city ha predict scotland’s major city suffer worst consequence brexit, hard soft, owe higher average exposure international markets. aberdeen expect hardest hit, lose half billion next 10 years. already know rapid loss eu subsidy among threat pose vast majority scottish farmers’ security undermine land prices. last week, 70 leader across scottish politics, academia, law business sign letter call britain think again. “it time call halt brexit,” said. “the disastrous consequence become ever clearer – every day. even uk ha leave eu, face fall live standards, rise inflation, slow lower productivity. international reputation ha seriously damaged,” added. nicola sturgeon snp government quiet since general election. face britain’s shambolic brexit, may happy let event reach dismal conclusion. persuade compatriot vote independent scotland return eu far easier.'\n",
      " 'spanish socialist file noconfidence motion mariano rajoy spain opposition socialist party ha file noconfidence motion prime minister mariano rajoy day govern people party wa find benefit illegal kickbacksforcontracts scheme pedro sánchez leader psoe say verdict gürtel corruption case seriously damage health democracy diminish rajoys credibility file motion confidence prime minister rajoy morning say meet psoes executive committee friday motion confidence aim bring normality back public life away corruption thriller people party ha plunge politics talk thing matter citizens\\nsánchez say psoes route map wa intend usher socialist government would restore stability regenerate democracy call election antiausterity podemos party ha say back psoes motion centreright ciudadanos party – appear creep ahead pp poll – refuse back motion, instead urge rajoy call snap general election. “the government’s conviction corruption ha pull plug parliament,” say leader, albert rivera. “we need clean, strong government deal [catalan] separatist challenge.” psoe’s motion require majority back succeed, require support 176 350 mps. socialist 85 seat podemos 71, need support ciudadanos, 32 seats, parties, include catalan separatists, carry motion. rajoy rule snap election say no-confidence motion would damage spain’s economic recovery stability day 2018 budget wa approved. add would weaken political response threat catalan secession. “this motion bad spain, bad spaniards, bring much uncertainty damage citizens,” tell reporters. prime minister accuse sánchez opportunism say move would lead viable government. also reaffirm pp’s decision appeal €240,000 (£210,000) fine impose party spain’s highest criminal court rule benefit gürtel racket. luis bárcenas, close ally rajoy, wa jail 33 year part conspiracy fin €44m.'\n",
      " ...\n",
      " 'manchester unite agree 357m fee sign donny van de beek ajax manchester unite reach agreement ajax donny van de beek fee 357m 40m plus add ons personal term agree netherlands midfielder deal 2025\\nvan de beek ha attract interest several europe lead club excel dutch side past three season real madrid barcelona among link 23yearold recent month unite however beat spanish club player touch agent maintaing strong link eredivisie champion thank former goalkeeper edwin van der sar ajax chief executive transfer complete week van de beekhas score 41 goal 175 appearance ajax first team join club 11yearold ha previously track tottenham\\nthere indeed development keep selection ajax manager erik ten hag say saturday see happen well make announcement soon there’s clarity.\\n“the fact donny play doe indicate direction. request let play come specifically one side. together. agreement make possible transfer, possibility arise must also cooperate.” sign van de beek would potential coup unite manager, ole gunnar solskjær, want strengthen midfield option new season. talk potential sign jadon sancho borussia dortmund yet resolved, unite also market new centre-back.'\n",
      " 'bare sick oed care young people speak  coco khan anyones play heat game scrabble know dictionary much simple resource record define common word also place history culture preserve word enter dictionary real establish bona fide must accept play active role define word world wa delight find week oxford english dictionary oed ask public help give dictionary treatment common youth slang word ask child teenager send example current slang apparently already track shift mean word bare intensifier mean lot peng mean goodlooking exceptional quality light mean fun excite can’t far behind.\\non one hand, really cause celebration? celebrate oed simply job? word utter regularly huge swath population, albeit almost exclusively younger people. (in case bare, wa circulation wa teenager, i’m fairly certain people say push 40). it’s therefore right included, help others understand words, record arrival. hand, touch symbolism story. institution reach public help reminder language make u all, dictate ivory towers. bottom-up phenomenon. society work intergenerational inequality, wonderful message young, tell daily life matter worthy recording. symbolism certainly lose me. speak result thousand influences, history cultures, deem acceptable others speak entrench social hierarchies. speak, non-white woman working-class background, ha regularly police throughout life. take one example: university tutor mark poetry assignment “miscounted syllable required”. word hour two syllable accent, one syllable queen’s english.\\nstill, that’s probably nothing compare experience people bear overseas. mother example, speak english fluently ha slight accent look asian, wa heavily scrutinise grow up. (there truly nothing madden someone passive aggressively say “sorry, speak english?” customer service counter dare ask refund.) don’t know yet whether news dictionary mean perhaps worst day might soon behind us. certainly feel like progress, benefit u all. doesn’t mean use slang, want to. it’s freedom, choice say things, as: “imagine let write bare slang guardian. it’s gonna lit, opinion section would look peng.” • coco khan commission editor columnist guardian'\n",
      " 'expect bielsa claim offer leeds poor value money almost taboo lead coach suggest overpay apply sledgehammer one game unwritten convention marcelo bielsa ha claim currently offer leeds unite poor value money charge group footballer warrant deserve higher position say bielsa whose injuryhit side one place two point clear premier league relegation zone club ha trust one aspect show confidence pay  course result offer expected\\nthe injury one reason course position occupy table worry club put enough resource disposal result different 66yearold argentinian believe command 8m year lead leeds championship 2020 creditable ninthplaced finish last season seem money extremely well spend yet bielsa remain revere west yorkshire combination two win season nag concern relate endure belief work unusually small nucleus senior professional dictate start face albeit low-key, criticism fans. leaf saturday’s trip brighton freight unexpected importance, particularly meet graham potter’s team follow improve performance recent draw home leicester narrow defeat tottenham. spur game, famously intense bielsa allow squad rare day london follow monday even visit nightclub would probably remain radar england midfield anchor kalvin phillips suffer minor head graze strut stuff dancefloor. welcome break ultra-disciplined routine doubtless proved, team spirit has, happily, never require much bolster club badly debilitate loss last season’s lead scorer, patrick bamford, serious ankle injury ha sideline majority campaign. way complication several first-teamers including, notably diego llorente, raphinha, robin koch, luke ayling, junior firpo, phillips, stuart dallas rodrigo, exile treatment room various times, situation gradually ease bamford koch still quite fit. despite leeds keep one clean sheet since august, absence least allow young player emerge first xi, forward joe gelhardt, particular, shining, offer recently impressive adam forshaw route back midfield two injury-hit years.\\nsimilarly, player seize chance display unexpected flexibility; centre-half pascal struijk ha operate convincingly left-back winger dan jam catch eye temporary reinvention lone striker. “i owner truth, immovable point view,” say bielsa. “i don’t position fundamentalist. value decision made. add player bigger group decrease possibility come first team. keep player patience ha mean forshaw constant presence team gelhardt ha able express himself.” even so, leeds would surely big trouble consistently outstanding form right winger raphinha. characteristic amalgam honesty insight, bielsa explain brazilian’s endure “amateurism” prove pivotal. “to professional player important contribution posse high spirit amateur,” say manager observer sense may final season elland road. “i refer player develop play nothing without expect recompense apart victory. “raphinha clear example, ha add lot thing professional game demand hasn’t lose anything achieve play nothing. virtue obtain professionalism. conserve keep despite professionalism.” leeds may face unscheduled relegation skirmish premier league would surely infinitely poorer without bielsa.']\n"
     ]
    }
   ],
   "source": [
    "print(X_train)"
   ]
  },
  {
   "cell_type": "code",
   "execution_count": 53,
   "id": "974e0b63",
   "metadata": {},
   "outputs": [],
   "source": [
    "# There were still some non-words present in the data, so I decided to run the text through another cleaning function\n",
    "\n",
    "def remove_non_words(arr):\n",
    "    \n",
    "    cleaned_arr = np.empty_like(arr)\n",
    "\n",
    "    for i, s in np.ndenumerate(arr):\n",
    "        # Remove anything that isn't a regular English word\n",
    "        cleaned_str = re.sub(r'[^\\w\\s]', '', s)\n",
    "        cleaned_arr[i] = cleaned_str\n",
    "\n",
    "    return cleaned_arr"
   ]
  },
  {
   "cell_type": "code",
   "execution_count": 54,
   "id": "a4ffeace",
   "metadata": {},
   "outputs": [],
   "source": [
    "X_train = remove_non_words(X_train)"
   ]
  },
  {
   "cell_type": "code",
   "execution_count": 55,
   "id": "42fdc681",
   "metadata": {},
   "outputs": [
    {
     "name": "stdout",
     "output_type": "stream",
     "text": [
      "['scar intrusive menace facial recognition  john naughton 18 july house common select committee science technology publish assessment work biometrics commissioner forensic science regulator guess citizen never hear two public servant pity important maintenance justice protection liberty human right current biometrics commissioner prof paul wile role keep review retention use police biometric material use dna sample custody image digital technology promise increase workload significantly seven year observe common committee since 2012 high court rule indefinite retention innocent people custody image wa unlawful yet practice continue system wa mean put place custody image keep six year review custody image unconvicted individual point weed delete havent photograph innocent people remain police national database doe matter basically image form basis watchlists automatic facialrecognition technology use police force public space ten year ago might much concern explosive growth realtime facialrecognition technology  current fascination uk police authority  mean its already become scandal could soon become crisis several force conduct live trial technology public places comment these common report say there grow evidence respected independent body regulatory lacuna ie legislative vacuum surround use automatic facial recognition ha call legal basis trial question government however seem realise concede problem\\nfacial recognition ha become runaway technology partly image provide perfect test bed machinelearning software internet prove inexhaustible source image train purposes result technology ha effectively commoditised its everywhere its relatively cheap social medium company obviously love spot friend stag hennight party pics mundane organisations use access control spot potential shoplifters recognise repeat customers etc etc spook love it authoritarian regime adore it and course police force fascinate it least provide objective grind stop search are however problem corporate authoritarian tool one technology flaky prone errors false positive bias importantly pathologically intrusive privacyeroding technology use general surveillance combination public video cameras application doesnt require knowledge consent participation subject   use create general suspicionless surveillance systems jeremy benthams panopticon steroids imagine public space  trafalgar square oxford street say  throng people monitor cctv camera link facialrecognition machine every time camera focus face superimpose persons visage name plus information  nationality age visa status educational qualifications criminal conviction if any employment history political party science fiction its possible work part world notably china its ha lead people liken technology plutonium others call outright ban it two option control runaway technology one treat like plutonium ban use civilian purposes treat like radioactive isotope  ha important us medicine  regulate accordingly oddly enough microsoft suggests argue a government initiative regulate proper use facialrecognition technology inform first bipartisan expert commission one tech giant start argue government regulation know really get problem im read faceapp fact theres nice story wire faceapp hooha wider contradictions worry single russianauthored app facebook data destiny stanford university sociologist michael rosenfeld colleague produce fascinate study date apps disintermediated ie replaced friend family link future life partners visionary stuff an image sensor isnt camera take photos  its way let computer see read thoughtful blog post benedict evans computer vision change machine do'\n",
      " 'fox chicken house boon snp  kevin mckenna patchy radio reception rural back road west central scotland wa play havoc stephen jardines midmorning phonein show radio scotland jardine seem referee heat live discussion desirability coronation chicken staple uk suburban garden buffet food product wasnt coronation chicken discuss  wa chlorinetreated chicken caller jardines show indication prospect chemically petrify beastie invade nation supermarket wa give middle scotland fit vapour spectre wa raise eagerness dr liam fox britain trade secretary conclude trade deal unite state deal could contingent britain agree ride coach horse food safety standard agree accept u poultry meat rinse detergent solution suffuse chemical would soon walk wee personal halo get worse u poultry spray chlorine cancel dodgy hygiene practice farmer early food process chain ussourced chicken ban eu country past 20 year fox accuse british medium obsess chlorinewashed chicken know isnt true though difficulty try fit chlorinewashed chicken one line huge headline tabloid splash insurmountable accord trade secretary chlorine solution mere detail at end stage one sector potential free trade agreement say that dont shy fox tell u u farmer chicken necessitate wash stuff put swim pools britains brexit strategy begin negotiation 27 member state eu ha lead prediction descend farce start proposition already farcical one call ring that farce first stop line call chaos horribly wrong humiliation stop oblivion\\nbritains brexit car crash go unnoticed noneu nation seek compensatory trade deals perhaps chlorinewashed chicken least it perhaps supermarket work new warn display packet food this product meet highest food safety approval however find trace human bone or dont alarm detect movement food product itll great way make u vegetarian ease pressure nhs better way demonstrate haughty disdain shifty european choose fox boris johnson david davis form top order brexit bat lineup fox man must somehow secure advantageous trade deal rest world compensate exit powerful lucrative alliance history international trade perhaps theresa may think familiarity overseas hospitality would advantage fox wa force resign defence secretary 2011 eagerness share foreign largesse close friend lobbyist adam werritty extend private ministry defence meet meet defence contractors though security clearance johnson man whose response financial meltdown 2008 ha keep pay banker cause massive bonuses u state department official collapse giggle johnson wa appoint britains foreign secretary accord one senior uk political reporter friend work foreign office call say boris fuck johnson beirut deal syria cant even deal lunacy barely year brexit former head vote leave campaign ha brand uks brexit secretary david davis thick mince lazy toad vain narcissus ha also begin dawn senior eu official talk openly disbelief badly prepare incompetent uk team ha start brexit negotiations view seem bear startle sight davis leave crucial open session second round talk eu counterpart michel barnier three hours wa declare getting substance matter frankly think wa outrageous barnier hadnt brief fact english tory let nothing come afternoon pimms\\nwe also begin see scot vote 21 remain eu thinktank centre city ha predict scotlands major city suffer worst consequence brexit hard soft owe higher average exposure international markets aberdeen expect hardest hit lose half billion next 10 years already know rapid loss eu subsidy among threat pose vast majority scottish farmers security undermine land prices last week 70 leader across scottish politics academia law business sign letter call britain think again it time call halt brexit said the disastrous consequence become ever clearer  every day even uk ha leave eu face fall live standards rise inflation slow lower productivity international reputation ha seriously damaged added nicola sturgeon snp government quiet since general election face britains shambolic brexit may happy let event reach dismal conclusion persuade compatriot vote independent scotland return eu far easier'\n",
      " 'spanish socialist file noconfidence motion mariano rajoy spain opposition socialist party ha file noconfidence motion prime minister mariano rajoy day govern people party wa find benefit illegal kickbacksforcontracts scheme pedro sánchez leader psoe say verdict gürtel corruption case seriously damage health democracy diminish rajoys credibility file motion confidence prime minister rajoy morning say meet psoes executive committee friday motion confidence aim bring normality back public life away corruption thriller people party ha plunge politics talk thing matter citizens\\nsánchez say psoes route map wa intend usher socialist government would restore stability regenerate democracy call election antiausterity podemos party ha say back psoes motion centreright ciudadanos party  appear creep ahead pp poll  refuse back motion instead urge rajoy call snap general election the governments conviction corruption ha pull plug parliament say leader albert rivera we need clean strong government deal catalan separatist challenge psoes motion require majority back succeed require support 176 350 mps socialist 85 seat podemos 71 need support ciudadanos 32 seats parties include catalan separatists carry motion rajoy rule snap election say noconfidence motion would damage spains economic recovery stability day 2018 budget wa approved add would weaken political response threat catalan secession this motion bad spain bad spaniards bring much uncertainty damage citizens tell reporters prime minister accuse sánchez opportunism say move would lead viable government also reaffirm pps decision appeal 240000 210000 fine impose party spains highest criminal court rule benefit gürtel racket luis bárcenas close ally rajoy wa jail 33 year part conspiracy fin 44m'\n",
      " ...\n",
      " 'manchester unite agree 357m fee sign donny van de beek ajax manchester unite reach agreement ajax donny van de beek fee 357m 40m plus add ons personal term agree netherlands midfielder deal 2025\\nvan de beek ha attract interest several europe lead club excel dutch side past three season real madrid barcelona among link 23yearold recent month unite however beat spanish club player touch agent maintaing strong link eredivisie champion thank former goalkeeper edwin van der sar ajax chief executive transfer complete week van de beekhas score 41 goal 175 appearance ajax first team join club 11yearold ha previously track tottenham\\nthere indeed development keep selection ajax manager erik ten hag say saturday see happen well make announcement soon theres clarity\\nthe fact donny play doe indicate direction request let play come specifically one side together agreement make possible transfer possibility arise must also cooperate sign van de beek would potential coup unite manager ole gunnar solskjær want strengthen midfield option new season talk potential sign jadon sancho borussia dortmund yet resolved unite also market new centreback'\n",
      " 'bare sick oed care young people speak  coco khan anyones play heat game scrabble know dictionary much simple resource record define common word also place history culture preserve word enter dictionary real establish bona fide must accept play active role define word world wa delight find week oxford english dictionary oed ask public help give dictionary treatment common youth slang word ask child teenager send example current slang apparently already track shift mean word bare intensifier mean lot peng mean goodlooking exceptional quality light mean fun excite cant far behind\\non one hand really cause celebration celebrate oed simply job word utter regularly huge swath population albeit almost exclusively younger people in case bare wa circulation wa teenager im fairly certain people say push 40 its therefore right included help others understand words record arrival hand touch symbolism story institution reach public help reminder language make u all dictate ivory towers bottomup phenomenon society work intergenerational inequality wonderful message young tell daily life matter worthy recording symbolism certainly lose me speak result thousand influences history cultures deem acceptable others speak entrench social hierarchies speak nonwhite woman workingclass background ha regularly police throughout life take one example university tutor mark poetry assignment miscounted syllable required word hour two syllable accent one syllable queens english\\nstill thats probably nothing compare experience people bear overseas mother example speak english fluently ha slight accent look asian wa heavily scrutinise grow up there truly nothing madden someone passive aggressively say sorry speak english customer service counter dare ask refund dont know yet whether news dictionary mean perhaps worst day might soon behind us certainly feel like progress benefit u all doesnt mean use slang want to its freedom choice say things as imagine let write bare slang guardian its gonna lit opinion section would look peng  coco khan commission editor columnist guardian'\n",
      " 'expect bielsa claim offer leeds poor value money almost taboo lead coach suggest overpay apply sledgehammer one game unwritten convention marcelo bielsa ha claim currently offer leeds unite poor value money charge group footballer warrant deserve higher position say bielsa whose injuryhit side one place two point clear premier league relegation zone club ha trust one aspect show confidence pay  course result offer expected\\nthe injury one reason course position occupy table worry club put enough resource disposal result different 66yearold argentinian believe command 8m year lead leeds championship 2020 creditable ninthplaced finish last season seem money extremely well spend yet bielsa remain revere west yorkshire combination two win season nag concern relate endure belief work unusually small nucleus senior professional dictate start face albeit lowkey criticism fans leaf saturdays trip brighton freight unexpected importance particularly meet graham potters team follow improve performance recent draw home leicester narrow defeat tottenham spur game famously intense bielsa allow squad rare day london follow monday even visit nightclub would probably remain radar england midfield anchor kalvin phillips suffer minor head graze strut stuff dancefloor welcome break ultradisciplined routine doubtless proved team spirit has happily never require much bolster club badly debilitate loss last seasons lead scorer patrick bamford serious ankle injury ha sideline majority campaign way complication several firstteamers including notably diego llorente raphinha robin koch luke ayling junior firpo phillips stuart dallas rodrigo exile treatment room various times situation gradually ease bamford koch still quite fit despite leeds keep one clean sheet since august absence least allow young player emerge first xi forward joe gelhardt particular shining offer recently impressive adam forshaw route back midfield two injuryhit years\\nsimilarly player seize chance display unexpected flexibility centrehalf pascal struijk ha operate convincingly leftback winger dan jam catch eye temporary reinvention lone striker i owner truth immovable point view say bielsa i dont position fundamentalist value decision made add player bigger group decrease possibility come first team keep player patience ha mean forshaw constant presence team gelhardt ha able express himself even so leeds would surely big trouble consistently outstanding form right winger raphinha characteristic amalgam honesty insight bielsa explain brazilians endure amateurism prove pivotal to professional player important contribution posse high spirit amateur say manager observer sense may final season elland road i refer player develop play nothing without expect recompense apart victory raphinha clear example ha add lot thing professional game demand hasnt lose anything achieve play nothing virtue obtain professionalism conserve keep despite professionalism leeds may face unscheduled relegation skirmish premier league would surely infinitely poorer without bielsa']\n"
     ]
    }
   ],
   "source": [
    "print(X_train)"
   ]
  },
  {
   "cell_type": "code",
   "execution_count": 56,
   "id": "02f35a46",
   "metadata": {},
   "outputs": [
    {
     "name": "stdout",
     "output_type": "stream",
     "text": [
      "1\n"
     ]
    }
   ],
   "source": [
    "print(X_train.ndim)"
   ]
  },
  {
   "cell_type": "code",
   "execution_count": 57,
   "id": "cdc0f8d7",
   "metadata": {},
   "outputs": [
    {
     "name": "stdout",
     "output_type": "stream",
     "text": [
      "scar intrusive menace facial recognition  john naughton 18 july house common select committee science technology publish assessment work biometrics commissioner forensic science regulator guess citizen never hear two public servant pity important maintenance justice protection liberty human right current biometrics commissioner prof paul wile role keep review retention use police biometric material use dna sample custody image digital technology promise increase workload significantly seven year observe common committee since 2012 high court rule indefinite retention innocent people custody image wa unlawful yet practice continue system wa mean put place custody image keep six year review custody image unconvicted individual point weed delete havent photograph innocent people remain police national database doe matter basically image form basis watchlists automatic facialrecognition technology use police force public space ten year ago might much concern explosive growth realtime facialrecognition technology  current fascination uk police authority  mean its already become scandal could soon become crisis several force conduct live trial technology public places comment these common report say there grow evidence respected independent body regulatory lacuna ie legislative vacuum surround use automatic facial recognition ha call legal basis trial question government however seem realise concede problem\n",
      "facial recognition ha become runaway technology partly image provide perfect test bed machinelearning software internet prove inexhaustible source image train purposes result technology ha effectively commoditised its everywhere its relatively cheap social medium company obviously love spot friend stag hennight party pics mundane organisations use access control spot potential shoplifters recognise repeat customers etc etc spook love it authoritarian regime adore it and course police force fascinate it least provide objective grind stop search are however problem corporate authoritarian tool one technology flaky prone errors false positive bias importantly pathologically intrusive privacyeroding technology use general surveillance combination public video cameras application doesnt require knowledge consent participation subject   use create general suspicionless surveillance systems jeremy benthams panopticon steroids imagine public space  trafalgar square oxford street say  throng people monitor cctv camera link facialrecognition machine every time camera focus face superimpose persons visage name plus information  nationality age visa status educational qualifications criminal conviction if any employment history political party science fiction its possible work part world notably china its ha lead people liken technology plutonium others call outright ban it two option control runaway technology one treat like plutonium ban use civilian purposes treat like radioactive isotope  ha important us medicine  regulate accordingly oddly enough microsoft suggests argue a government initiative regulate proper use facialrecognition technology inform first bipartisan expert commission one tech giant start argue government regulation know really get problem im read faceapp fact theres nice story wire faceapp hooha wider contradictions worry single russianauthored app facebook data destiny stanford university sociologist michael rosenfeld colleague produce fascinate study date apps disintermediated ie replaced friend family link future life partners visionary stuff an image sensor isnt camera take photos  its way let computer see read thoughtful blog post benedict evans computer vision change machine do\n"
     ]
    }
   ],
   "source": [
    "print(X_train[0])"
   ]
  },
  {
   "cell_type": "markdown",
   "id": "ce84322a",
   "metadata": {},
   "source": [
    "Now, we can fit the tokenizer on the training data, and then perform the conversion."
   ]
  },
  {
   "cell_type": "code",
   "execution_count": 58,
   "id": "720a8781",
   "metadata": {},
   "outputs": [],
   "source": [
    "# Fit the tokenizer on the training data\n",
    "tokenizer.fit_on_texts(X_train)"
   ]
  },
  {
   "cell_type": "code",
   "execution_count": 59,
   "id": "4ce58b28",
   "metadata": {},
   "outputs": [],
   "source": [
    "# Convert the text data to sequences of word indices\n",
    "X_train = tokenizer.texts_to_sequences(X_train)"
   ]
  },
  {
   "cell_type": "code",
   "execution_count": 60,
   "id": "2bdd0984",
   "metadata": {},
   "outputs": [
    {
     "name": "stdout",
     "output_type": "stream",
     "text": [
      "[[572, 877, 917, 277, 756, 880, 1423, 1439, 820, 32, 1423, 981, 103, 395, 19, 104, 297, 741, 1259, 339, 50, 526, 827, 399, 122, 937, 68, 187, 68, 1144, 1439, 540, 375, 425, 9, 756, 880, 59, 1196, 286, 290, 220, 10, 1144, 1, 106, 1094, 175, 257, 1, 118, 98, 82, 1144, 122, 179, 9, 937, 1144, 679, 66, 1272, 10, 128, 187, 129, 189, 410, 1144, 250, 1439, 68, 187, 147, 104, 654, 9, 213, 110, 58, 340, 1490, 1439, 526, 120, 187, 530, 118, 26, 163, 69, 22, 544, 69, 363, 507, 147, 1302, 162, 829, 1439, 104, 692, 756, 114, 3, 300, 374, 520, 1059, 486, 68, 2, 75, 700, 829, 197, 44, 186, 124, 1125, 1264, 225, 2, 69, 1439, 1144, 330, 1205, 99, 494, 1012, 1144, 294, 217, 1439, 2, 26, 26, 180, 258, 338, 1109, 316, 1027, 459, 102, 68, 781, 324, 1027, 643, 1055, 1261, 316, 41, 1245, 41, 240, 284, 187, 147, 41, 200, 330, 512, 275, 1313, 1307, 186, 225, 4, 1439, 600, 1439, 68, 538, 104, 835, 429, 571, 1010, 68, 377, 538, 1070, 104, 654, 550, 3, 10, 797, 116, 8, 438, 117, 264, 839, 331, 1074, 1336, 652, 263, 151, 102, 1423, 26, 367, 32, 96, 28, 376, 26, 2, 74, 10, 1439, 319, 75, 477, 41, 19, 894, 324, 1439, 4, 927, 20, 477, 68, 927, 20, 2, 297, 342, 184, 779, 493, 44, 68, 1439, 13, 1002, 957, 4, 60, 779, 44, 34, 115, 11, 225, 112, 462, 310, 409, 1194, 308, 730, 557, 1246, 778, 433, 825, 1430, 753, 617, 990, 459, 145, 797, 262, 89, 1356, 1144, 591, 12, 26, 38, 430, 36, 462, 491, 81, 763]]\n"
     ]
    }
   ],
   "source": [
    "# Take a quick look at the first result, which should be a list of integers\n",
    "print(X_train[:1])"
   ]
  },
  {
   "cell_type": "code",
   "execution_count": 61,
   "id": "127a1a40",
   "metadata": {},
   "outputs": [
    {
     "name": "stdout",
     "output_type": "stream",
     "text": [
      "[572, 877, 917, 277, 756, 880, 1423, 1439, 820, 32, 1423, 981, 103, 395, 19, 104, 297, 741, 1259, 339, 50, 526, 827, 399, 122, 937, 68, 187, 68, 1144, 1439, 540, 375, 425, 9, 756, 880, 59, 1196, 286, 290, 220, 10, 1144, 1, 106, 1094, 175, 257, 1, 118, 98, 82, 1144, 122, 179, 9, 937, 1144, 679, 66, 1272, 10, 128, 187, 129, 189, 410, 1144, 250, 1439, 68, 187, 147, 104, 654, 9, 213, 110, 58, 340, 1490, 1439, 526, 120, 187, 530, 118, 26, 163, 69, 22, 544, 69, 363, 507, 147, 1302, 162, 829, 1439, 104, 692, 756, 114, 3, 300, 374, 520, 1059, 486, 68, 2, 75, 700, 829, 197, 44, 186, 124, 1125, 1264, 225, 2, 69, 1439, 1144, 330, 1205, 99, 494, 1012, 1144, 294, 217, 1439, 2, 26, 26, 180, 258, 338, 1109, 316, 1027, 459, 102, 68, 781, 324, 1027, 643, 1055, 1261, 316, 41, 1245, 41, 240, 284, 187, 147, 41, 200, 330, 512, 275, 1313, 1307, 186, 225, 4, 1439, 600, 1439, 68, 538, 104, 835, 429, 571, 1010, 68, 377, 538, 1070, 104, 654, 550, 3, 10, 797, 116, 8, 438, 117, 264, 839, 331, 1074, 1336, 652, 263, 151, 102, 1423, 26, 367, 32, 96, 28, 376, 26, 2, 74, 10, 1439, 319, 75, 477, 41, 19, 894, 324, 1439, 4, 927, 20, 477, 68, 927, 20, 2, 297, 342, 184, 779, 493, 44, 68, 1439, 13, 1002, 957, 4, 60, 779, 44, 34, 115, 11, 225, 112, 462, 310, 409, 1194, 308, 730, 557, 1246, 778, 433, 825, 1430, 753, 617, 990, 459, 145, 797, 262, 89, 1356, 1144, 591, 12, 26, 38, 430, 36, 462, 491, 81, 763]\n"
     ]
    }
   ],
   "source": [
    "# Take a quick look at the first result, which should be a list of integers\n",
    "print(X_train[0])"
   ]
  },
  {
   "cell_type": "markdown",
   "id": "1619b1dc",
   "metadata": {},
   "source": [
    "Now, we print the top 20 words which occur, to get an idea of the content."
   ]
  },
  {
   "cell_type": "code",
   "execution_count": 62,
   "id": "fe1ae85a",
   "metadata": {},
   "outputs": [
    {
     "name": "stdout",
     "output_type": "stream",
     "text": [
      "wa 211889\n",
      "ha 134372\n",
      "say 96078\n",
      "one 72514\n",
      "would 63537\n",
      "make 59739\n",
      "go 58021\n",
      "time 55903\n",
      "year 55768\n",
      "people 55529\n",
      "get 50947\n",
      "take 49553\n",
      "first 45958\n",
      "last 44445\n",
      "new 41633\n",
      "come 41208\n",
      "also 40578\n",
      "win 39885\n",
      "two 39873\n",
      "like 39751\n"
     ]
    }
   ],
   "source": [
    "# Get the word frequency counts\n",
    "word_counts = tokenizer.word_counts\n",
    "\n",
    "# Sort the dictionary by frequency\n",
    "sorted_words = sorted(word_counts.items(), key=lambda x: x[1], reverse=True)\n",
    "\n",
    "# Print out the top 20 most frequent words\n",
    "for word, count in sorted_words[:20]:\n",
    "    print(word, count)"
   ]
  },
  {
   "cell_type": "markdown",
   "id": "41020de4",
   "metadata": {},
   "source": [
    "Now, we need to pad the sequences using the maximum length assigned earlier."
   ]
  },
  {
   "cell_type": "code",
   "execution_count": 63,
   "id": "146b13db",
   "metadata": {},
   "outputs": [],
   "source": [
    "# Pad the sequences to have the same length\n",
    "X_train = pad_sequences(X_train, maxlen=maxlen)"
   ]
  },
  {
   "cell_type": "code",
   "execution_count": 64,
   "id": "2da83a49",
   "metadata": {},
   "outputs": [
    {
     "name": "stdout",
     "output_type": "stream",
     "text": [
      "(33261, 250)\n"
     ]
    }
   ],
   "source": [
    "print(X_train.shape)"
   ]
  },
  {
   "cell_type": "code",
   "execution_count": 65,
   "id": "87b9942e",
   "metadata": {},
   "outputs": [
    {
     "name": "stdout",
     "output_type": "stream",
     "text": [
      "1\n",
      "2\n"
     ]
    }
   ],
   "source": [
    "print(X_train[0].ndim)\n",
    "print(X_train.ndim)"
   ]
  },
  {
   "cell_type": "code",
   "execution_count": 66,
   "id": "68836aee",
   "metadata": {
    "scrolled": true
   },
   "outputs": [
    {
     "name": "stdout",
     "output_type": "stream",
     "text": [
      "[ 756  880   59 1196  286  290  220   10 1144    1  106 1094  175  257\n",
      "    1  118   98   82 1144  122  179    9  937 1144  679   66 1272   10\n",
      "  128  187  129  189  410 1144  250 1439   68  187  147  104  654    9\n",
      "  213  110   58  340 1490 1439  526  120  187  530  118   26  163   69\n",
      "   22  544   69  363  507  147 1302  162  829 1439  104  692  756  114\n",
      "    3  300  374  520 1059  486   68    2   75  700  829  197   44  186\n",
      "  124 1125 1264  225    2   69 1439 1144  330 1205   99  494 1012 1144\n",
      "  294  217 1439    2   26   26  180  258  338 1109  316 1027  459  102\n",
      "   68  781  324 1027  643 1055 1261  316   41 1245   41  240  284  187\n",
      "  147   41  200  330  512  275 1313 1307  186  225    4 1439  600 1439\n",
      "   68  538  104  835  429  571 1010   68  377  538 1070  104  654  550\n",
      "    3   10  797  116    8  438  117  264  839  331 1074 1336  652  263\n",
      "  151  102 1423   26  367   32   96   28  376   26    2   74   10 1439\n",
      "  319   75  477   41   19  894  324 1439    4  927   20  477   68  927\n",
      "   20    2  297  342  184  779  493   44   68 1439   13 1002  957    4\n",
      "   60  779   44   34  115   11  225  112  462  310  409 1194  308  730\n",
      "  557 1246  778  433  825 1430  753  617  990  459  145  797  262   89\n",
      " 1356 1144  591   12   26   38  430   36  462  491   81  763]\n"
     ]
    }
   ],
   "source": [
    "print(X_train[0])"
   ]
  },
  {
   "cell_type": "markdown",
   "id": "ff52463a",
   "metadata": {},
   "source": [
    "**Validation and Test Data**"
   ]
  },
  {
   "cell_type": "markdown",
   "id": "b1be71a4",
   "metadata": {},
   "source": [
    "Now, we need to perform the same processing steps for the validation and test datasets."
   ]
  },
  {
   "cell_type": "code",
   "execution_count": 67,
   "id": "8448bd94",
   "metadata": {},
   "outputs": [],
   "source": [
    "# Transform from a DF to NumPy array\n",
    "X_val = X_val['concatenated'].apply(lambda x: x.lower()).values\n",
    "\n",
    "# Convert the validation data to sequences of integer values\n",
    "X_val = tokenizer.texts_to_sequences(X_val)\n",
    "\n",
    "# Pad the validation sequences\n",
    "X_val = pad_sequences(X_val, maxlen=maxlen)"
   ]
  },
  {
   "cell_type": "code",
   "execution_count": 68,
   "id": "ffd67b65",
   "metadata": {},
   "outputs": [],
   "source": [
    "# Transform from a DF to NumPy array\n",
    "X_test = X_test['concatenated'].apply(lambda x: x.lower()).values\n",
    "\n",
    "# Convert the test data to sequences of integer values\n",
    "X_test = tokenizer.texts_to_sequences(X_test)\n",
    "\n",
    "# Pad the test sequences\n",
    "X_test = pad_sequences(X_test, maxlen=maxlen)"
   ]
  },
  {
   "cell_type": "markdown",
   "id": "779e13ae",
   "metadata": {},
   "source": [
    "### viii. One-Hot Encoding <a class=\"anchor\" id=\"i-bullet\"></a>"
   ]
  },
  {
   "cell_type": "markdown",
   "id": "c3631e83",
   "metadata": {},
   "source": [
    "[TOP ↑](#top)"
   ]
  },
  {
   "cell_type": "markdown",
   "id": "37e3519a",
   "metadata": {},
   "source": [
    "The final step in pre-processing the data will be to perform one-hot encoding on the target label data."
   ]
  },
  {
   "cell_type": "code",
   "execution_count": 69,
   "id": "6a2509af",
   "metadata": {},
   "outputs": [],
   "source": [
    "# Since the label datasets are arrays of integers representing the labels, we can now perform one-hot encoding\n",
    "y_train_onehot = to_categorical(y_train)\n",
    "y_val_onehot = to_categorical(y_val, num_classes=y_train_onehot.shape[1])\n",
    "y_test_onehot = to_categorical(y_test, num_classes=y_train_onehot.shape[1])"
   ]
  },
  {
   "cell_type": "code",
   "execution_count": 70,
   "id": "436c7e6e",
   "metadata": {},
   "outputs": [
    {
     "name": "stdout",
     "output_type": "stream",
     "text": [
      "(33261, 4)\n"
     ]
    }
   ],
   "source": [
    "# We can print the shape of the data to verify if the encoding worked\n",
    "print(y_train_onehot.shape)"
   ]
  },
  {
   "cell_type": "code",
   "execution_count": 71,
   "id": "fd22c58e",
   "metadata": {},
   "outputs": [
    {
     "name": "stdout",
     "output_type": "stream",
     "text": [
      "[0. 1. 0. 0.]\n"
     ]
    }
   ],
   "source": [
    "# We can also print the first example\n",
    "print(y_train_onehot[0])"
   ]
  },
  {
   "cell_type": "markdown",
   "id": "64ef3705",
   "metadata": {},
   "source": [
    "## 3. LSTM Models <a class=\"anchor\" id=\"model2-bullet\"></a>"
   ]
  },
  {
   "cell_type": "markdown",
   "id": "81e05a4b",
   "metadata": {},
   "source": [
    "[TOP ↑](#top)"
   ]
  },
  {
   "cell_type": "markdown",
   "id": "b026f6c7",
   "metadata": {},
   "source": [
    "In the next part of the project, we can experiment with different deep learning architectures. Ultimately, I settled on a combination of Convolutional Neural Network (CNN) and Long Short Term Memory (LSTM) Model, which exhibited the best performance."
   ]
  },
  {
   "cell_type": "markdown",
   "id": "334192db",
   "metadata": {},
   "source": [
    "### i. CNN and LSTM Model <a class=\"anchor\" id=\"cnnlstmmodel-bullet\"></a>"
   ]
  },
  {
   "cell_type": "markdown",
   "id": "8006aa90",
   "metadata": {},
   "source": [
    "[TOP ↑](#top)"
   ]
  },
  {
   "cell_type": "markdown",
   "id": "14025212",
   "metadata": {},
   "source": [
    "In this section, we build a model with an embedding layer, a Long Short Term Memory layer, a hidden layer with 350 neurons, and an output layer with a softmax activation function. Once again, we opt for a CategoricalCrossentropy loss function, the adam optimiser, and accuracy as our primary metric. In addition, we also employ dropout and early stopping to prevent overfitting. We ensure that the same state size is utilised in both the RNN and LSTM."
   ]
  },
  {
   "cell_type": "code",
   "execution_count": 72,
   "id": "d5cc376e",
   "metadata": {},
   "outputs": [],
   "source": [
    "# Here, we define the hyperparameters\n",
    "batch_size = 250\n",
    "state_size = 8"
   ]
  },
  {
   "cell_type": "code",
   "execution_count": 73,
   "id": "6fbf5883",
   "metadata": {},
   "outputs": [],
   "source": [
    "from keras.layers import Embedding, Conv1D, MaxPooling1D, GlobalMaxPooling1D, Dense"
   ]
  },
  {
   "cell_type": "code",
   "execution_count": 74,
   "id": "4e5879b5",
   "metadata": {},
   "outputs": [
    {
     "name": "stdout",
     "output_type": "stream",
     "text": [
      "Metal device set to: Apple M1\n"
     ]
    },
    {
     "name": "stderr",
     "output_type": "stream",
     "text": [
      "2023-05-08 11:19:30.804817: I tensorflow/core/common_runtime/pluggable_device/pluggable_device_factory.cc:305] Could not identify NUMA node of platform GPU ID 0, defaulting to 0. Your kernel may not have been built with NUMA support.\n",
      "2023-05-08 11:19:30.806220: I tensorflow/core/common_runtime/pluggable_device/pluggable_device_factory.cc:271] Created TensorFlow device (/job:localhost/replica:0/task:0/device:GPU:0 with 0 MB memory) -> physical PluggableDevice (device: 0, name: METAL, pci bus id: <undefined>)\n"
     ]
    },
    {
     "name": "stdout",
     "output_type": "stream",
     "text": [
      "Model: \"sequential\"\n",
      "_________________________________________________________________\n",
      " Layer (type)                Output Shape              Param #   \n",
      "=================================================================\n",
      " embedding (Embedding)       (None, None, 8)           12000     \n",
      "                                                                 \n",
      " conv1d (Conv1D)             (None, None, 256)         8448      \n",
      "                                                                 \n",
      " max_pooling1d (MaxPooling1D  (None, None, 256)        0         \n",
      " )                                                               \n",
      "                                                                 \n",
      " dropout (Dropout)           (None, None, 256)         0         \n",
      "                                                                 \n",
      " conv1d_1 (Conv1D)           (None, None, 64)          163904    \n",
      "                                                                 \n",
      " max_pooling1d_1 (MaxPooling  (None, None, 64)         0         \n",
      " 1D)                                                             \n",
      "                                                                 \n",
      " lstm (LSTM)                 (None, None, 32)          12416     \n",
      "                                                                 \n",
      " lstm_1 (LSTM)               (None, 64)                24832     \n",
      "                                                                 \n",
      " dense (Dense)               (None, 350)               22750     \n",
      "                                                                 \n",
      " dropout_1 (Dropout)         (None, 350)               0         \n",
      "                                                                 \n",
      " dense_1 (Dense)             (None, 4)                 1404      \n",
      "                                                                 \n",
      "=================================================================\n",
      "Total params: 245,754\n",
      "Trainable params: 245,754\n",
      "Non-trainable params: 0\n",
      "_________________________________________________________________\n"
     ]
    }
   ],
   "source": [
    "lstm_model = Sequential()\n",
    "lstm_model.add(Embedding(max_features, embedding_size))\n",
    "lstm_model.add(Conv1D(256, 4, activation='relu'))\n",
    "lstm_model.add(MaxPooling1D(5))\n",
    "lstm_model.add(Dropout(0.25))\n",
    "lstm_model.add(Conv1D(64, 10, activation='relu'))\n",
    "lstm_model.add(MaxPooling1D(5))\n",
    "lstm_model.add(LSTM(32, return_sequences=True))\n",
    "lstm_model.add(LSTM(64))\n",
    "lstm_model.add(Dense(350, activation='relu', kernel_regularizer=regularizers.l2(0.01)))\n",
    "lstm_model.add(Dropout(0.5))\n",
    "lstm_model.add(Dense(num_labels, activation='softmax'))\n",
    "lstm_model.summary()"
   ]
  },
  {
   "cell_type": "code",
   "execution_count": 75,
   "id": "0eb46f9c",
   "metadata": {},
   "outputs": [],
   "source": [
    "# Define the early stopping callback, and set the patience to three\n",
    "early_stopping = EarlyStopping(monitor='val_loss', patience=3)"
   ]
  },
  {
   "cell_type": "code",
   "execution_count": 76,
   "id": "73776490",
   "metadata": {},
   "outputs": [],
   "source": [
    "lstm_model.compile(optimizer='adam',\n",
    "             loss=tf.keras.losses.CategoricalCrossentropy(),\n",
    "              metrics=['accuracy'])"
   ]
  },
  {
   "cell_type": "code",
   "execution_count": 77,
   "id": "8d3907be",
   "metadata": {},
   "outputs": [
    {
     "name": "stdout",
     "output_type": "stream",
     "text": [
      "Epoch 1/20\n"
     ]
    },
    {
     "name": "stderr",
     "output_type": "stream",
     "text": [
      "2023-05-08 11:19:31.362201: W tensorflow/core/platform/profile_utils/cpu_utils.cc:128] Failed to get CPU frequency: 0 Hz\n",
      "2023-05-08 11:19:32.275941: I tensorflow/core/grappler/optimizers/custom_graph_optimizer_registry.cc:113] Plugin optimizer for device_type GPU is enabled.\n",
      "2023-05-08 11:19:32.587579: I tensorflow/core/grappler/optimizers/custom_graph_optimizer_registry.cc:113] Plugin optimizer for device_type GPU is enabled.\n",
      "2023-05-08 11:19:32.688405: I tensorflow/core/grappler/optimizers/custom_graph_optimizer_registry.cc:113] Plugin optimizer for device_type GPU is enabled.\n",
      "2023-05-08 11:19:32.855174: I tensorflow/core/grappler/optimizers/custom_graph_optimizer_registry.cc:113] Plugin optimizer for device_type GPU is enabled.\n",
      "2023-05-08 11:19:32.978097: I tensorflow/core/grappler/optimizers/custom_graph_optimizer_registry.cc:113] Plugin optimizer for device_type GPU is enabled.\n"
     ]
    },
    {
     "name": "stdout",
     "output_type": "stream",
     "text": [
      "1040/1040 [==============================] - ETA: 0s - loss: 0.6739 - accuracy: 0.6945"
     ]
    },
    {
     "name": "stderr",
     "output_type": "stream",
     "text": [
      "2023-05-08 11:20:02.036727: I tensorflow/core/grappler/optimizers/custom_graph_optimizer_registry.cc:113] Plugin optimizer for device_type GPU is enabled.\n",
      "2023-05-08 11:20:02.134825: I tensorflow/core/grappler/optimizers/custom_graph_optimizer_registry.cc:113] Plugin optimizer for device_type GPU is enabled.\n",
      "2023-05-08 11:20:02.188346: I tensorflow/core/grappler/optimizers/custom_graph_optimizer_registry.cc:113] Plugin optimizer for device_type GPU is enabled.\n"
     ]
    },
    {
     "name": "stdout",
     "output_type": "stream",
     "text": [
      "1040/1040 [==============================] - 32s 29ms/step - loss: 0.6739 - accuracy: 0.6945 - val_loss: 0.3233 - val_accuracy: 0.8929\n",
      "Epoch 2/20\n",
      "1040/1040 [==============================] - 29s 28ms/step - loss: 0.2572 - accuracy: 0.9261 - val_loss: 0.2427 - val_accuracy: 0.9297\n",
      "Epoch 3/20\n",
      "1040/1040 [==============================] - 103s 99ms/step - loss: 0.2006 - accuracy: 0.9446 - val_loss: 0.2203 - val_accuracy: 0.9386\n",
      "Epoch 4/20\n",
      "1040/1040 [==============================] - 30s 29ms/step - loss: 0.1723 - accuracy: 0.9533 - val_loss: 0.2543 - val_accuracy: 0.9240\n",
      "Epoch 5/20\n",
      "1040/1040 [==============================] - 30s 29ms/step - loss: 0.1531 - accuracy: 0.9587 - val_loss: 0.2038 - val_accuracy: 0.9443\n",
      "Epoch 6/20\n",
      "1040/1040 [==============================] - 30s 29ms/step - loss: 0.1384 - accuracy: 0.9643 - val_loss: 0.2002 - val_accuracy: 0.9418\n",
      "Epoch 7/20\n",
      "1040/1040 [==============================] - 30s 29ms/step - loss: 0.1287 - accuracy: 0.9657 - val_loss: 0.2133 - val_accuracy: 0.9383\n",
      "Epoch 8/20\n",
      "1040/1040 [==============================] - 30s 29ms/step - loss: 0.1171 - accuracy: 0.9698 - val_loss: 0.2301 - val_accuracy: 0.9321\n",
      "Epoch 9/20\n",
      "1040/1040 [==============================] - 30s 29ms/step - loss: 0.1057 - accuracy: 0.9739 - val_loss: 0.2215 - val_accuracy: 0.9367\n"
     ]
    }
   ],
   "source": [
    "lstm_hist = lstm_model.fit(X_train, y_train_onehot,\n",
    "          batch_size=32,\n",
    "          epochs=20,\n",
    "          validation_data=(X_val, y_val_onehot),\n",
    "          callbacks=[early_stopping])"
   ]
  },
  {
   "cell_type": "code",
   "execution_count": 78,
   "id": "f2d409c6",
   "metadata": {},
   "outputs": [
    {
     "name": "stdout",
     "output_type": "stream",
     "text": [
      "129/129 [==============================] - 2s 14ms/step - loss: 0.2219 - accuracy: 0.9389\n",
      "Test loss: 0.22193478047847748\n",
      "Test accuracy: 0.9388848543167114\n"
     ]
    }
   ],
   "source": [
    "lstm_loss, lstm_accuracy = lstm_model.evaluate(X_test, y_test_onehot)\n",
    "print(f\"Test loss: {lstm_loss}\")\n",
    "print(f\"Test accuracy: {lstm_accuracy}\")"
   ]
  },
  {
   "cell_type": "markdown",
   "id": "3475ec98",
   "metadata": {},
   "source": [
    "In this case, we achieve a very high accuracy. It seems that the LSTM model is able to overcome the vanishing gradient problem."
   ]
  },
  {
   "cell_type": "code",
   "execution_count": 79,
   "id": "3e982ef6",
   "metadata": {},
   "outputs": [
    {
     "data": {
      "image/png": "[encoded data removed]",
      "text/plain": [
       "<Figure size 640x480 with 1 Axes>"
      ]
     },
     "metadata": {},
     "output_type": "display_data"
    }
   ],
   "source": [
    "# Plot the training and validation loss\n",
    "plt.plot(lstm_hist.history['loss'], label='training')\n",
    "plt.plot(lstm_hist.history['val_loss'], label='validation')\n",
    "plt.title('Model Loss')\n",
    "plt.ylabel('Loss')\n",
    "plt.xlabel('Epoch')\n",
    "plt.legend()\n",
    "plt.show()"
   ]
  },
  {
   "cell_type": "code",
   "execution_count": 80,
   "id": "97199f58",
   "metadata": {},
   "outputs": [
    {
     "data": {
      "image/png": "[encoded data removed]",
      "text/plain": [
       "<Figure size 640x480 with 1 Axes>"
      ]
     },
     "metadata": {},
     "output_type": "display_data"
    }
   ],
   "source": [
    "# Plot the training and validation accuracy\n",
    "plt.plot(lstm_hist.history['accuracy'], label='training')\n",
    "plt.plot(lstm_hist.history['val_accuracy'], label='validation')\n",
    "plt.title('Model Accuracy')\n",
    "plt.ylabel('Accuracy')\n",
    "plt.xlabel('Epoch')\n",
    "plt.legend()\n",
    "plt.show()"
   ]
  },
  {
   "cell_type": "code",
   "execution_count": 81,
   "id": "e7991382",
   "metadata": {},
   "outputs": [
    {
     "name": "stderr",
     "output_type": "stream",
     "text": [
      "2023-05-08 11:25:18.199210: I tensorflow/core/grappler/optimizers/custom_graph_optimizer_registry.cc:113] Plugin optimizer for device_type GPU is enabled.\n",
      "2023-05-08 11:25:18.289857: I tensorflow/core/grappler/optimizers/custom_graph_optimizer_registry.cc:113] Plugin optimizer for device_type GPU is enabled.\n",
      "2023-05-08 11:25:18.350860: I tensorflow/core/grappler/optimizers/custom_graph_optimizer_registry.cc:113] Plugin optimizer for device_type GPU is enabled.\n"
     ]
    },
    {
     "name": "stdout",
     "output_type": "stream",
     "text": [
      "129/129 [==============================] - 1s 7ms/step\n"
     ]
    },
    {
     "data": {
      "image/png": "[encoded data removed]",
      "text/plain": [
       "<Figure size 640x480 with 2 Axes>"
      ]
     },
     "metadata": {},
     "output_type": "display_data"
    }
   ],
   "source": [
    "# Make predictions with your model on a validation set\n",
    "y_pred = lstm_model.predict(X_test)\n",
    "\n",
    "# Get the predicted classes\n",
    "y_pred_classes = np.argmax(y_pred, axis=1)\n",
    "\n",
    "# Get the true classes\n",
    "y_true = np.argmax(y_test_onehot, axis=1)\n",
    "\n",
    "# Calculate the confusion matrix\n",
    "cm = confusion_matrix(y_true, y_pred_classes)\n",
    "\n",
    "# Plot the confusion matrix\n",
    "plt.imshow(cm, cmap=plt.cm.Blues)\n",
    "plt.title('Test Set Confusion Matrix')\n",
    "plt.colorbar()\n",
    "plt.xlabel('Predicted Label')\n",
    "plt.ylabel('True Label')\n",
    "\n",
    "# We need to create a dynamic list for the class labels, as these may change\n",
    "ticks = list(range(unique_labels)) \n",
    "labels = ['Class {}'.format(i) for i in range(unique_labels)] \n",
    "plt.xticks(ticks, labels) \n",
    "plt.yticks(ticks, labels) \n",
    "plt.show()"
   ]
  },
  {
   "cell_type": "code",
   "execution_count": 82,
   "id": "b225d603",
   "metadata": {},
   "outputs": [
    {
     "name": "stdout",
     "output_type": "stream",
     "text": [
      "Test Set Confusion Matrix:\n"
     ]
    },
    {
     "data": {
      "text/plain": [
       "array([[1012,    8,   49,    6],\n",
       "       [   1,  938,    6,   59],\n",
       "       [  11,   10,  952,    8],\n",
       "       [   3,   70,   20,  954]])"
      ]
     },
     "execution_count": 82,
     "metadata": {},
     "output_type": "execute_result"
    }
   ],
   "source": [
    "print('Test Set Confusion Matrix:')\n",
    "confusion_matrix(y_pred_classes, y_true)"
   ]
  },
  {
   "cell_type": "markdown",
   "id": "f4340a1b",
   "metadata": {},
   "source": [
    "Now, we can produce a Classification Report based on the validation data. This will give us the precision, recall, and F1 score for each of our classes. Precision is the proportion of true positive predictions out of all positive predictions made by the model. It measures how many of the predicted positive instances are actually positive. A high precision indicates that the model makes few false positive predictions. Recall is the proportion of true positive predictions out of all actual positive instances in the dataset. It measures how many of the actual positive instances were correctly identified by the model. A high recall indicates that the model makes few false negative predictions. Finally, the F1 score is the harmonic mean of precision and recall, and is a measure of overall accuracy that balances the importance of precision and recall. It ranges from 0 to 1, with a higher score indicating better performance."
   ]
  },
  {
   "cell_type": "code",
   "execution_count": 83,
   "id": "f7f4ff0d",
   "metadata": {},
   "outputs": [
    {
     "name": "stdout",
     "output_type": "stream",
     "text": [
      "129/129 [==============================] - 1s 6ms/step\n",
      "              precision    recall  f1-score   support\n",
      "\n",
      "           0       0.94      0.99      0.96      1027\n",
      "           1       0.93      0.91      0.92      1026\n",
      "           2       0.97      0.93      0.95      1027\n",
      "           3       0.91      0.93      0.92      1027\n",
      "\n",
      "    accuracy                           0.94      4107\n",
      "   macro avg       0.94      0.94      0.94      4107\n",
      "weighted avg       0.94      0.94      0.94      4107\n",
      "\n"
     ]
    }
   ],
   "source": [
    "# Make predictions with our validation data\n",
    "y_pred = lstm_model.predict(X_test)\n",
    "\n",
    "# Get the predicted classes\n",
    "y_pred_classes = np.argmax(y_pred, axis=1)\n",
    "\n",
    "# Get the true classes\n",
    "y_true = np.argmax(y_test_onehot, axis=1)\n",
    "\n",
    "# Print the Classification Report\n",
    "print(classification_report(y_true, y_pred_classes))"
   ]
  },
  {
   "cell_type": "markdown",
   "id": "9b30fa02",
   "metadata": {},
   "source": [
    "Finally, we can use our model on the test set to evaluate the model's performance on unseen data."
   ]
  },
  {
   "cell_type": "code",
   "execution_count": 84,
   "id": "ba8eefd9",
   "metadata": {
    "scrolled": true
   },
   "outputs": [
    {
     "name": "stdout",
     "output_type": "stream",
     "text": [
      "129/129 [==============================] - 2s 14ms/step - loss: 0.2219 - accuracy: 0.9389\n",
      "Test Loss: 0.22193478047847748\n",
      "Test Accuracy: 0.9388848543167114\n"
     ]
    }
   ],
   "source": [
    "loss, accuracy = lstm_model.evaluate(X_test, y_test_onehot)\n",
    "print(f\"Test Loss: {loss}\")\n",
    "print(f\"Test Accuracy: {accuracy}\")"
   ]
  },
  {
   "cell_type": "code",
   "execution_count": 85,
   "id": "57c5f89d",
   "metadata": {},
   "outputs": [],
   "source": [
    "from tensorflow.keras.models import load_model\n",
    "\n",
    "# Save the model\n",
    "lstm_model.save('cnn_lstm_model.h5')\n",
    "\n",
    "# Load the model\n",
    "#loaded_model = load_model('my_model.h5')"
   ]
  },
  {
   "cell_type": "code",
   "execution_count": null,
   "id": "edd3ff41",
   "metadata": {},
   "outputs": [],
   "source": []
  }
 ],
 "metadata": {
  "kernelspec": {
   "display_name": "Python 3 (ipykernel)",
   "language": "python",
   "name": "python3"
  },
  "language_info": {
   "codemirror_mode": {
    "name": "ipython",
    "version": 3
   },
   "file_extension": ".py",
   "mimetype": "text/x-python",
   "name": "python",
   "nbconvert_exporter": "python",
   "pygments_lexer": "ipython3",
   "version": "3.10.9"
  }
 },
 "nbformat": 4,
 "nbformat_minor": 5
}
