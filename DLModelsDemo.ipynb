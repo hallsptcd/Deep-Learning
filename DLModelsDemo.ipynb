{
 "cells": [
  {
   "cell_type": "markdown",
   "id": "a2ce8ea0",
   "metadata": {},
   "source": [
    "# DL Models Demo Notebook <a class=\"anchor\" id=\"top\"></a>"
   ]
  },
  {
   "cell_type": "markdown",
   "id": "ab385ff9",
   "metadata": {},
   "source": [
    "**Simon Hall**"
   ]
  },
  {
   "cell_type": "markdown",
   "id": "cd290d23",
   "metadata": {},
   "source": [
    "The aim of this project is to perform a systematic investigation of a number of Deep Learning methods in the context of text processing, and to benchmark these methods against classical methods. The task uses a dataset of articles extracted from *The Guardian* newspaper, and aims to predict the broader section from which an article was taken."
   ]
  },
  {
   "cell_type": "markdown",
   "id": "32618b37",
   "metadata": {},
   "source": [
    "## Contents:\n",
    "* [1. Download Processed Data](#first-bullet)\n",
    "    * [i. Download X_train Data](#xtrain-bullet)\n",
    "    * [ii. Download X_val Data](#xval-bullet)\n",
    "    * [iii. Download X_test Data](#xtest-bullet)\n",
    "    * [iv. Download y_train Data](#ytrain-bullet)\n",
    "    * [v. Download y_val Data](#yval-bullet)\n",
    "    * [vi. Download y_test Data](#ytest-bullet)\n",
    "* [2. Download and Run Models](#second-bullet)\n",
    "    * [i. Download On-The-Fly CNN-LSTM Model](#cnn-bullet)\n",
    "    * [ii. Download Pre-Trained CNN-LSTM Model](#pte-bullet)"
   ]
  },
  {
   "cell_type": "markdown",
   "id": "a5036946",
   "metadata": {},
   "source": [
    "### Download Processed Data <a class=\"anchor\" id=\"first-bullet\"></a>"
   ]
  },
  {
   "cell_type": "markdown",
   "id": "c80829b5",
   "metadata": {},
   "source": [
    "[TOP ↑](#top)"
   ]
  },
  {
   "cell_type": "markdown",
   "id": "ac304a17",
   "metadata": {},
   "source": [
    "First, we need to load the data from the web."
   ]
  },
  {
   "cell_type": "code",
   "execution_count": null,
   "id": "a737ed42",
   "metadata": {},
   "outputs": [],
   "source": [
    "import numpy as np\n",
    "import pandas as pd"
   ]
  },
  {
   "cell_type": "code",
   "execution_count": null,
   "id": "9ef84f6d",
   "metadata": {},
   "outputs": [],
   "source": [
    "#!pip install gdown\n",
    "import gdown"
   ]
  },
  {
   "cell_type": "markdown",
   "id": "2270af0b",
   "metadata": {},
   "source": [
    "**i. Download X_train Data** <a class=\"anchor\" id=\"xtrain-bullet\"></a>"
   ]
  },
  {
   "cell_type": "markdown",
   "id": "4675ca41",
   "metadata": {},
   "source": [
    "[TOP ↑](#top)"
   ]
  },
  {
   "cell_type": "code",
   "execution_count": null,
   "id": "631d7315",
   "metadata": {},
   "outputs": [],
   "source": [
    "#X_train\n",
    "url = 'https://drive.google.com/uc?id=15gi8uu8W4MA-76HIjWMj3HqX8XMari8H'\n",
    "output = 'X_train.txt'\n",
    "gdown.download(url, output, quiet=False)"
   ]
  },
  {
   "cell_type": "code",
   "execution_count": null,
   "id": "0b5944f5",
   "metadata": {},
   "outputs": [],
   "source": [
    "import numpy as np\n",
    "X_train = np.genfromtxt(\"X_train.txt\")"
   ]
  },
  {
   "cell_type": "code",
   "execution_count": null,
   "id": "78d633d5",
   "metadata": {},
   "outputs": [],
   "source": [
    "print(X_train)"
   ]
  },
  {
   "cell_type": "markdown",
   "id": "c807a275",
   "metadata": {},
   "source": [
    "**ii. Download X_val Data** <a class=\"anchor\" id=\"xval-bullet\"></a>"
   ]
  },
  {
   "cell_type": "markdown",
   "id": "bff79f50",
   "metadata": {},
   "source": [
    "[TOP ↑](#top)"
   ]
  },
  {
   "cell_type": "code",
   "execution_count": null,
   "id": "1bb39a24",
   "metadata": {},
   "outputs": [],
   "source": [
    "#X_val\n",
    "\n",
    "url = 'https://drive.google.com/uc?id=1RwIpsyjaKzaFOqerpOZ9M4GLK9rBpC4F'\n",
    "output = 'X_val.txt'\n",
    "gdown.download(url, output, quiet=False)"
   ]
  },
  {
   "cell_type": "code",
   "execution_count": null,
   "id": "4f62f598",
   "metadata": {},
   "outputs": [],
   "source": [
    "import numpy as np\n",
    "X_val = np.genfromtxt(\"X_val.txt\")"
   ]
  },
  {
   "cell_type": "code",
   "execution_count": null,
   "id": "8603cc88",
   "metadata": {},
   "outputs": [],
   "source": [
    "print(X_val)"
   ]
  },
  {
   "cell_type": "markdown",
   "id": "19b3e3c5",
   "metadata": {},
   "source": [
    "**iii. Download X_test Data** <a class=\"anchor\" id=\"xtest-bullet\"></a>"
   ]
  },
  {
   "cell_type": "markdown",
   "id": "8825b27c",
   "metadata": {},
   "source": [
    "[TOP ↑](#top)"
   ]
  },
  {
   "cell_type": "code",
   "execution_count": null,
   "id": "df100b53",
   "metadata": {},
   "outputs": [],
   "source": [
    "#X_test\n",
    "\n",
    "url = 'https://drive.google.com/uc?id=1TX70ky8y7DrY_Wu2jOJfbRSjlMzx4G33'\n",
    "output = 'X_test.txt'\n",
    "gdown.download(url, output, quiet=False)"
   ]
  },
  {
   "cell_type": "code",
   "execution_count": null,
   "id": "e797c80e",
   "metadata": {},
   "outputs": [],
   "source": [
    "import numpy as np\n",
    "X_test = np.genfromtxt(\"X_test.txt\")"
   ]
  },
  {
   "cell_type": "code",
   "execution_count": null,
   "id": "4c69b9f0",
   "metadata": {},
   "outputs": [],
   "source": [
    "print(X_test)"
   ]
  },
  {
   "cell_type": "markdown",
   "id": "5d22bd72",
   "metadata": {},
   "source": [
    "**vi. Download y_train Data** <a class=\"anchor\" id=\"ytrain-bullet\"></a>"
   ]
  },
  {
   "cell_type": "markdown",
   "id": "5809e3c3",
   "metadata": {},
   "source": [
    "[TOP ↑](#top)"
   ]
  },
  {
   "cell_type": "code",
   "execution_count": null,
   "id": "172f9670",
   "metadata": {},
   "outputs": [],
   "source": [
    "#y_train\n",
    "\n",
    "url = 'https://drive.google.com/uc?id=1sczC8DInj7bRStnscIGxkIGqEG6TN_SK'\n",
    "output = 'y_train.txt'\n",
    "gdown.download(url, output, quiet=False)"
   ]
  },
  {
   "cell_type": "code",
   "execution_count": null,
   "id": "e2b6c390",
   "metadata": {},
   "outputs": [],
   "source": [
    "import numpy as np\n",
    "y_train = np.genfromtxt(\"y_train.txt\")"
   ]
  },
  {
   "cell_type": "code",
   "execution_count": null,
   "id": "92f89a87",
   "metadata": {},
   "outputs": [],
   "source": [
    "print(y_train)"
   ]
  },
  {
   "cell_type": "markdown",
   "id": "5069c0d8",
   "metadata": {},
   "source": [
    "**v. Download y_val Data** <a class=\"anchor\" id=\"xval-bullet\"></a>"
   ]
  },
  {
   "cell_type": "markdown",
   "id": "2bedc5a5",
   "metadata": {},
   "source": [
    "[TOP ↑](#top)"
   ]
  },
  {
   "cell_type": "code",
   "execution_count": null,
   "id": "538f23e7",
   "metadata": {},
   "outputs": [],
   "source": [
    "#y_val\n",
    "\n",
    "url = 'https://drive.google.com/uc?id=1t8roXY2l7qpwTcHNP37jKF2ZS4C54GRu'\n",
    "output = 'y_val.txt'\n",
    "gdown.download(url, output, quiet=False)"
   ]
  },
  {
   "cell_type": "code",
   "execution_count": null,
   "id": "d362bf53",
   "metadata": {},
   "outputs": [],
   "source": [
    "import numpy as np\n",
    "y_val = np.genfromtxt(\"y_val.txt\")"
   ]
  },
  {
   "cell_type": "code",
   "execution_count": null,
   "id": "69a8fd0e",
   "metadata": {},
   "outputs": [],
   "source": [
    "print(y_val)"
   ]
  },
  {
   "cell_type": "markdown",
   "id": "41878047",
   "metadata": {},
   "source": [
    "**vi. Download y_test Data** <a class=\"anchor\" id=\"ytest-bullet\"></a>"
   ]
  },
  {
   "cell_type": "markdown",
   "id": "59c23feb",
   "metadata": {},
   "source": [
    "[TOP ↑](#top)"
   ]
  },
  {
   "cell_type": "code",
   "execution_count": null,
   "id": "f36eee6d",
   "metadata": {},
   "outputs": [],
   "source": [
    "#y_test\n",
    "\n",
    "url = 'https://drive.google.com/uc?id=1GR5qOLJO_vmuP53XnwiLfvpTeaxnMlOM'\n",
    "output = 'y_test.txt'\n",
    "gdown.download(url, output, quiet=False)"
   ]
  },
  {
   "cell_type": "code",
   "execution_count": null,
   "id": "0b42d9f4",
   "metadata": {},
   "outputs": [],
   "source": [
    "import numpy as np\n",
    "y_test = np.genfromtxt(\"y_test.txt\")"
   ]
  },
  {
   "cell_type": "code",
   "execution_count": null,
   "id": "9cb21219",
   "metadata": {},
   "outputs": [],
   "source": [
    "print(y_test)"
   ]
  },
  {
   "cell_type": "markdown",
   "id": "53bff613",
   "metadata": {},
   "source": [
    "### 2. Download Models <a class=\"anchor\" id=\"second-bullet\"></a>"
   ]
  },
  {
   "cell_type": "markdown",
   "id": "92e850a9",
   "metadata": {},
   "source": [
    "[TOP ↑](#top)"
   ]
  },
  {
   "cell_type": "markdown",
   "id": "09fd547d",
   "metadata": {},
   "source": [
    "**Download On-The_Fly Embedding CNN-LSTM Model** <a class=\"anchor\" id=\"cnn-bullet\"></a>"
   ]
  },
  {
   "cell_type": "markdown",
   "id": "5cc52caa",
   "metadata": {},
   "source": [
    "[TOP ↑](#top)"
   ]
  },
  {
   "cell_type": "code",
   "execution_count": null,
   "id": "828d0df7",
   "metadata": {},
   "outputs": [],
   "source": [
    "#CNN-LSTM Model with on-the-fly embeddings\n",
    "\n",
    "url = 'https://drive.google.com/uc?id=1x550rag7FHHMu_wThfl19rCiMpQSUGHJ'\n",
    "output = 'cnn_lstm_model.h5'\n",
    "gdown.download(url, output, quiet=False)"
   ]
  },
  {
   "cell_type": "code",
   "execution_count": null,
   "id": "fe734aa4",
   "metadata": {},
   "outputs": [],
   "source": [
    "from tensorflow import keras\n",
    "\n",
    "# Load pre-trained model\n",
    "cnn_lstm_model = keras.models.load_model('cnn_lstm_model.h5')"
   ]
  },
  {
   "cell_type": "markdown",
   "id": "a82bf74b",
   "metadata": {},
   "source": [
    "Now, we can print the model accuracy:"
   ]
  },
  {
   "cell_type": "code",
   "execution_count": null,
   "id": "c22e2949",
   "metadata": {},
   "outputs": [],
   "source": [
    "loss, accuracy = cnn_lstm_model.evaluate(X_test, y_test)\n",
    "print(f\"Test Loss: {loss}\")\n",
    "print(f\"Test Accuracy: {accuracy}\")"
   ]
  },
  {
   "cell_type": "markdown",
   "id": "681c2311",
   "metadata": {},
   "source": [
    "**Download Pre-Trained Embedding CNN-LSTM Model** <a class=\"anchor\" id=\"pte-bullet\"></a>"
   ]
  },
  {
   "cell_type": "markdown",
   "id": "b5a74a7b",
   "metadata": {},
   "source": [
    "[TOP ↑](#top)"
   ]
  },
  {
   "cell_type": "code",
   "execution_count": null,
   "id": "d4f6f92b",
   "metadata": {},
   "outputs": [],
   "source": [
    "#CNN-LSTM Model with pre-trained embeddings\n",
    "\n",
    "url = 'https://drive.google.com/uc?id=1H_4tSFHVNFCgFlHvouPLbSlcZdXQCrcU'\n",
    "output = 'pte_cnn_lstm_model.h5'\n",
    "gdown.download(url, output, quiet=False)"
   ]
  },
  {
   "cell_type": "code",
   "execution_count": null,
   "id": "20126d10",
   "metadata": {},
   "outputs": [],
   "source": [
    "from tensorflow import keras\n",
    "\n",
    "# Load pre-trained model\n",
    "pte_cnn_lstm_model = keras.models.load_model('pte_cnn_lstm_model.h5')"
   ]
  },
  {
   "cell_type": "markdown",
   "id": "5730a283",
   "metadata": {},
   "source": [
    "Now, we can print the model accuracy:"
   ]
  },
  {
   "cell_type": "code",
   "execution_count": null,
   "id": "a9904989",
   "metadata": {},
   "outputs": [],
   "source": [
    "loss, accuracy = pte_cnn_lstm_model.evaluate(X_test, y_test)\n",
    "print(f\"Test Loss: {loss}\")\n",
    "print(f\"Test Accuracy: {accuracy}\")"
   ]
  },
  {
   "cell_type": "markdown",
   "id": "2ae37c30",
   "metadata": {},
   "source": [
    "**Appendix: Generate Data**"
   ]
  },
  {
   "cell_type": "code",
   "execution_count": null,
   "id": "859d1f79",
   "metadata": {},
   "outputs": [],
   "source": [
    "#import numpy as np\n",
    "\n",
    "#np.savetxt('X_train.txt', X_train)\n",
    "#np.savetxt('X_test.txt', X_test)\n",
    "#np.savetxt('X_val.txt', X_val)\n",
    "\n",
    "#np.savetxt('y_train.txt', y_train_onehot)\n",
    "#np.savetxt('y_test.txt', y_test_onehot)\n",
    "#np.savetxt('y_val.txt', y_val_onehot)"
   ]
  }
 ],
 "metadata": {
  "kernelspec": {
   "display_name": "Python 3 (ipykernel)",
   "language": "python",
   "name": "python3"
  },
  "language_info": {
   "codemirror_mode": {
    "name": "ipython",
    "version": 3
   },
   "file_extension": ".py",
   "mimetype": "text/x-python",
   "name": "python",
   "nbconvert_exporter": "python",
   "pygments_lexer": "ipython3",
   "version": "3.10.9"
  }
 },
 "nbformat": 4,
 "nbformat_minor": 5
}
